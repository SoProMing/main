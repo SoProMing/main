{
 "cells": [
  {
   "cell_type": "markdown",
   "metadata": {},
   "source": [
    "\n",
    "# Eisbrecher\n",
    "\n",
    "<img src=\"Icebreaker.webp\" style=\"height:280px;\">\n",
    "\n",
    "## 1. [tscheck.in](https://tscheck.in): „Wie komme ich heute hier an?“\n",
    "\n",
    "-   Wir starten gemeinsam und schauen, wie jede*r heute hier ankommt.\n",
    "\n",
    "## 2. Vorstellungsrunde: „Wer bist du?“\n",
    "\n",
    "-   Jetzt lernen wir uns besser kennen.\n",
    "-   Wenn du schon etwas auf dem Miro-Board gepostet hast, kannst du kurz einen Punkt daraus vorstellen.\n",
    "-   Für alle anderen gibt es drei spannende Fragen – such dir eine aus:\n",
    "    -   „Wenn ich ein Tier wäre, welches wäre das und warum?“\n",
    "    -   „Was ist ein überraschender Fun Fact über mich?“\n",
    "    -   „Was möchte ich in dieser Veranstaltung besonders lernen oder ausprobieren?“\n",
    "-   Wir gehen reihum und du kannst so viel oder so wenig erzählen, wie du möchtest.\n",
    "\n",
    "## 3. Unsere Erwartungshaltung\n",
    "\n",
    "-   Lass uns darüber sprechen, was wir gemeinsam von dieser Veranstaltung erwarten.\n",
    "-   Wir stellen uns drei Fragen:\n",
    "    1.  „Angenommen, die Veranstaltung ist genial, was ist dann anders?“\n",
    "    2.  „Woran merke ich das?“\n",
    "    3.  „Woran merken das die anderen?“\n",
    "-   Deine Antworten kannst du mündlich teilen, oder wir sammeln sie direkt auf einem Miro-Board.\n",
    "-   Gemeinsam fassen wir die wichtigsten Punkte zusammen, damit wir ein gutes gemeinsames Bild bekommen.\n",
    "\n",
    "## 4. Den Tag gemeinsam planen\n",
    "\n",
    "-   Jetzt gestalten wir den Tag zusammen.\n",
    "-   Auf dem Miro-Board findest du einen groben Tagesplan mit freien Zeitslots und Themenvorschlägen.\n",
    "-   Du kannst mitentscheiden:\n",
    "    -   „Welche Themen sind mir heute besonders wichtig?“\n",
    "    -   „Welche Fragen möchte ich klären?“\n",
    "    -   „Wie möchte ich am liebsten arbeiten?“\n",
    "-   Wir ergänzen den Plan gemeinsam und sorgen dafür, dass alle wichtigen Punkte berücksichtigt werden.\n"
   ]
  }
 ],
 "metadata": {
  "language_info": {
   "name": "python"
  }
 },
 "nbformat": 4,
 "nbformat_minor": 2
}
