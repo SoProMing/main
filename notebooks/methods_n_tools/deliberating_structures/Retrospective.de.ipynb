{
 "cells": [
  {
   "cell_type": "markdown",
   "metadata": {},
   "source": [
    "[Software Product Mastering](../../abstract/Contents.de.ipynb) / [Produkt & Projekt](../../theory/Project_Products.de.ipynb) / [Methoden](../../methods_n_tools/Methods.de.ipynb) / [Deliberating structures](Deliberating_Structures.de.ipynb)\n",
    "\n",
    "# Retrospektive in Scrum\n",
    "\n",
    "<table border=\"0\">\n",
    "  <tr>\n",
    "    <td>\n",
    "        <img src=\"Retrospective.webp\">\n",
    "    </td>\n",
    "    <td rowspan=\"2\">\n",
    "        <a href=\"https://miro.com/app/board/uXjVLKHGo6E=/?moveToWidget=3458764605541796363&cot=14\"><img src=\"Radar_Retrospective.de.jpg\"></a>\n",
    "    </td>\n",
    "  </tr>\n",
    "  <tr>\n",
    "    <td>\n",
    "      <a href=\"https://t2informatik.de/wissen-kompakt/scrum-retrospektive/\">Was ist eine Scrum Retrospektive?</a><br>\n",
    "      <a href=\"https://scrum.wertikalwerk.com/toolbox/vegas-regel-retro/\">Agile Vegas Regel der Retrospektive</a><br>\n",
    "      <a href=\"https://www.business-wissen.de/hb/retrospektive-leitfaden-mit-beispielen-methoden-praxistipps/\">Retrospektive: Leitfaden mit Beispielen, Methoden & Praxistipps</a><br>\n",
    "      <a href=\"https://www.agile-academy.com/de/agiles-lexikon/las-vegas-regel/\">Las Vegas Regel in agilen Teams</a><br>\n",
    "      <a href=\"https://www.scrum.org/resources/blog/retrospektiven-prinzipien-fur-erfolgreiche-scrum-teams\">Retrospektiven-Prinzipien für erfolgreiche Scrum-Teams</a><br>\n",
    "      <a href=\"https://agilescrumgroup.de/retrospektive-formen-mit-beispielen-und-ideen/\">Zehn Retrospektive-Formen mit Beispielen und Ideen</a><br>\n",
    "      <a href=\"https://agile-verwaltung.org/2019/06/13/ausderagilenmethodenkiste-die-fuenf-phasen-einer-retrospektive/\">#AusDerAgilenMethodenkiste: Die fünf Phasen einer Retrospektive</a><br>\n",
    "      <a href=\"https://www.pureconsultant.de/de/scrum/las-vegas-regel/\">Las Vegas Regel: Definition & Einsatz in Scrum</a><br>\n",
    "      <a href=\"https://www.timr.com/a/retrospektive/\">Retrospektive – Leitfaden, Methoden & Vorteile</a><br>\n",
    "      <a href=\"https://agile-verwaltung.org/2016/09/15/aus-der-agilen-methodenkisten-kontinulierliche-verbesserung-durch-retrospektiven/\">Aus der agilen Methodenkiste: Kontinuierliche Verbesserung durch Retrospektiven</a><br>\n",
    "      <a href=\"https://www.helloagile.de/scrum-flow-elemente/retrospektive\">Die Retrospektive im Scrum Flow</a><br>\n",
    "      <a href=\"https://empulse.de/scrum-best-practice-die-retrospektive\">Scrum – Best Practice: Die Retrospektive</a><br>\n",
    "      <a href=\"https://scrum.wertikalwerk.com/guide/kontinuierliche-verbesserung-die-retrospektive/\">Retrospektiv agil: Scrum Retrospektive</a><br>\n",
    "      <a href=\"https://www.myagile5.com/de/5\">Las Vegas Regel</a><br>\n",
    "      <a href=\"https://www.berlinerteam.de/blog/scrum-retrospektive/\">Die Scrum Retrospektive – Erklärung und Praxis</a><br>\n",
    "      <a href=\"https://magazin.hettl-consult.de/las-vegas-regel/\">Las Vegas Regel</a><br>\n",
    "      <a href=\"https://echometerapp.com/de/retrospektive-in-scrum/\">Retrospektive in Scrum und darüber hinaus</a><br>\n",
    "      <a href=\"https://www.agile-academy.com/en/agile-dictionary/las-vegas-rule/\">Las Vegas Rule in Agile Teams</a><br>\n",
    "      <a href=\"https://www.agileskills.de/blogs/der-agile-blog/ein-kurzer-leitfaden-fur-die-durchfuhrung-von-sprint-retrospektiven\">Ein kurzer Leitfaden für die Durchführung von Sprint Retrospektiven</a><br>\n",
    "      <a href=\"https://www.kehrwasser.com/blog/2021/12/22/retro-was-retrospektive-und-wie-ein-team-daran-waechst/\">Retro…was? Retrospektive und wie ein Team daran wächst</a><br>\n",
    "      <a href=\"https://www.appvizer.de/magazin/organisation-planung/projektmanagement/sprint-retrospektive\">Was ist eine Sprint Retrospektive in Scrum?</a><br>\n",
    "      <a href=\"https://en.wikipedia.org/wiki/Scrum_%28software_development%29\">Scrum (Softwareentwicklung) – Wikipedia</a>\n",
    "    </td>\n",
    "  </tr>\n",
    "</table>\n",
    "\n",
    "### Zusammenfassung\n",
    "\n",
    "#### Zweck\n",
    "- Reflexion der Zusammenarbeit im Sprint.\n",
    "- Identifikation von Verbesserungsmöglichkeiten.\n",
    "- Förderung der Teamdynamik und kontinuierlichen Verbesserung.\n",
    "\n",
    "#### Ablauf\n",
    "1. **Eröffnung:** Rahmen setzen, Icebreaker oder Check-in.\n",
    "2. **Datensammlung:** Feedback zu positiven und negativen Aspekten.\n",
    "3. **Analyse:** Ursachen von Problemen priorisieren und analysieren.\n",
    "4. **Maßnahmenplanung:** Konkrete und umsetzbare Verbesserungen erarbeiten.\n",
    "5. **Abschluss:** Reflexion des Meetings und Dank ans Team.\n",
    "\n",
    "#### Wichtige Prinzipien\n",
    "- **Las Vegas Regel:** Vertraulichkeit („What happens in Vegas, stays in Vegas“).\n",
    "- **Goldene Regel:** Respektvoller Umgang und konstruktive Kritik.\n",
    "\n",
    "#### Rolle des Scrum Masters\n",
    "- Moderation, Strukturierung und Schutz der Werte.\n",
    "- Neutralität wahren und psychologische Sicherheit gewährleisten.\n",
    "\n",
    "#### Kreative Methoden\n",
    "- **Segelboot:** Treiber, Bremsen und Risiken visualisieren.\n",
    "- **Hot Air Balloon:** Fortschritt und Hindernisse darstellen.\n",
    "- **Starfish:** Start, Stop, Keep, Less, More strukturieren.\n",
    "\n",
    "Vom Autor häufig verwendete Methode:\n",
    "<a href=\"https://miro.com/app/board/uXjVLKHGo6E=/?moveToWidget=3458764608760012599&cot=14\"><img src=\"Retrospective_Helper.en.jpg\"></a>\n",
    "\n",
    "#### Erfolgsmessung\n",
    "- Umsetzung der Maßnahmen.\n",
    "- Verbesserte Zusammenarbeit und Teamstimmung.\n",
    "- Effizienzsteigerung durch kontinuierliche Fortschritte.\n",
    "\n",
    "#### Fazit\n",
    "Die Retrospektive ist ein geschützter Raum für Reflexion und Verbesserung, unterstützt durch Vertrauen, Respekt und kreative Ansätze, um das Team nachhaltig zu stärken."
   ]
  },
  {
   "cell_type": "markdown",
   "metadata": {},
   "source": [
    "<details><summary>Nochmal zum Nachlesen...</summary>\n",
    "\n",
    "## Die Retrospektive in Scrum: Ein Schlüssel zur kontinuierlichen Verbesserung\n",
    "\n",
    "In Scrum ist die Retrospektive ein zentraler Bestandteil, um Teams nicht nur effizienter, sondern auch stärker und besser miteinander verbunden zu machen. Sie ist mehr als nur ein Rückblick – sie ist eine Chance für das Team, gemeinsam zu wachsen, Arbeitsweisen zu optimieren und zukünftige Herausforderungen proaktiv zu meistern. Aber was genau macht eine Retrospektive so wichtig? Wie läuft sie ab, und was sind die goldenen Regeln, die sie erfolgreich machen? In diesem Artikel werfen wir einen detaillierten Blick auf dieses essentielle Scrum-Event.\n",
    "\n",
    "### Der Zweck der Retrospektive\n",
    "\n",
    "Die Retrospektive ist der Moment, in dem das Team innehalten kann, um sich zu fragen:\n",
    "- Was lief im letzten Sprint gut?\n",
    "- Was hat uns ausgebremst oder frustriert?\n",
    "- Wie können wir es in Zukunft besser machen?\n",
    "\n",
    "Das Ziel ist es, die Arbeit des Teams kontinuierlich zu verbessern, Hindernisse zu beseitigen und gleichzeitig die Teamdynamik zu stärken. Es geht nicht nur darum, Probleme zu lösen, sondern auch darum, positive Aspekte zu identifizieren und zu verstärken. So wird die Retrospektive zum Motor für eine agile und lernende Organisation.\n",
    "\n",
    "### Ablauf einer Retrospektive\n",
    "\n",
    "Eine Retrospektive folgt einem klaren Ablauf, der es dem Team ermöglicht, strukturiert und zielgerichtet zu arbeiten:\n",
    "\n",
    "1. **Eröffnung**  \n",
    "   Der Scrum Master eröffnet die Retrospektive, oft mit einem Icebreaker oder einer Einstiegsfrage, um das Team auf das Meeting einzustimmen. Eine lockere Atmosphäre hilft, die Kreativität und Offenheit zu fördern.\n",
    "\n",
    "2. **Datensammlung**  \n",
    "   Das Team reflektiert den vergangenen Sprint und sammelt Feedback. Übliche Methoden sind:\n",
    "   - **Start/Stop/Continue:** Was sollten wir beginnen, stoppen oder fortsetzen?\n",
    "   - **Mad/Sad/Glad:** Was hat uns geärgert, traurig gemacht oder gefreut?\n",
    "   - **KALM:** Keep, Add, Less, More.  \n",
    "   Ziel ist es, sowohl positive als auch verbesserungswürdige Aspekte herauszuarbeiten.\n",
    "\n",
    "3. **Analyse**  \n",
    "   Die gesammelten Punkte werden diskutiert und priorisiert. Hierbei kommt oft die **5-Why-Methode** zum Einsatz, um die Ursachen von Problemen zu identifizieren.\n",
    "\n",
    "4. **Maßnahmenplanung**  \n",
    "   Das Team erarbeitet konkrete, umsetzbare Maßnahmen. Diese sollten SMART sein (spezifisch, messbar, erreichbar, relevant, zeitgebunden), um sicherzustellen, dass sie im nächsten Sprint realisiert werden können.\n",
    "\n",
    "5. **Abschluss**  \n",
    "   Die Retrospektive endet mit einer kurzen Reflexion über das Meeting selbst. Wie war der Ablauf? Was könnten wir bei der nächsten Retrospektive verbessern? Diese Metareflexion schließt den Kreis und fördert die kontinuierliche Verbesserung auch auf der Ebene des Meetings.\n",
    "\n",
    "### Die Las Vegas Regel\n",
    "\n",
    "Eine erfolgreiche Retrospektive basiert auf Vertrauen. Hier kommt die **Las Vegas Regel** ins Spiel: „What happens in Vegas, stays in Vegas.“ Alles, was in der Retrospektive besprochen wird, bleibt innerhalb des Teams und wird vertraulich behandelt. Diese Regel schafft einen sicheren Raum, in dem Teammitglieder offen über Probleme und Herausforderungen sprechen können, ohne Angst vor Konsequenzen oder Weiterverbreitung zu haben.\n",
    "\n",
    "### Die goldene Regel\n",
    "\n",
    "Die **goldene Regel** der Retrospektive lautet: „Behandle andere so, wie du selbst behandelt werden möchtest.“ Dies bedeutet, dass Kritik stets konstruktiv und respektvoll geäußert werden soll. Der Fokus liegt auf der Sache, nicht auf der Person. Indem das Team einen wertschätzenden Umgang pflegt, wird die Zusammenarbeit gestärkt und die Retrospektive zu einem positiven Erlebnis für alle Beteiligten.\n",
    "\n",
    "### Die Rolle des Scrum Masters\n",
    "\n",
    "Der Scrum Master hat in der Retrospektive eine entscheidende Rolle:\n",
    "- **Facilitator:** Er moderiert die Retrospektive und sorgt für einen strukturierten Ablauf.\n",
    "- **Neutralität:** Er bleibt neutral und greift nicht aktiv in die Diskussion ein. Stattdessen unterstützt er das Team dabei, selbst Lösungen zu finden.\n",
    "- **Schutz der Werte:** Der Scrum Master sorgt dafür, dass die Scrum-Werte (Offenheit, Respekt, Mut, Fokus und Commitment) eingehalten werden.\n",
    "\n",
    "### Kreative Formate für Retrospektiven\n",
    "\n",
    "Um Monotonie zu vermeiden, können verschiedene Formate eingesetzt werden:\n",
    "- **Segelboot-Methode:** Das Team visualisiert, was das Boot antreibt (Wind), was es bremst (Anker) und welche Risiken (Felsen) drohen.\n",
    "- **Hot Air Balloon:** Das Team beschreibt, was das Projekt voranbringt (Heißluft), was es zurückhält (Gewichte) und welche Hindernisse (Wolken) es zu überwinden gilt.\n",
    "- **Starfish:** Kategorien wie \"Start,\" \"Stop,\" \"Keep Doing,\" \"Less Of,\" und \"More Of\" strukturieren das Feedback.\n",
    "\n",
    "### Psychologische Sicherheit und Feedbackkultur\n",
    "\n",
    "Der Erfolg einer Retrospektive hängt maßgeblich von der **psychologischen Sicherheit** im Team ab. Teammitglieder müssen das Gefühl haben, dass sie offen und ehrlich sprechen können, ohne negative Konsequenzen zu befürchten. Eine starke Feedbackkultur, in der Kritik als Chance zur Verbesserung gesehen wird, stärkt die Zusammenarbeit und das Vertrauen im Team.\n",
    "\n",
    "### Messen des Erfolgs\n",
    "\n",
    "Wie erkennt man, ob eine Retrospektive erfolgreich war?\n",
    "- **Umsetzung der Maßnahmen:** Werden die beschlossenen Verbesserungen tatsächlich umgesetzt?\n",
    "- **Bessere Zusammenarbeit:** Fühlt sich das Team motivierter und stärker verbunden?\n",
    "- **Steigerung der Effizienz:** Verbessern sich die Teamleistung und die Durchlaufzeiten langfristig?\n",
    "\n",
    "### Fazit\n",
    "\n",
    "Die Retrospektive ist das Herzstück der kontinuierlichen Verbesserung in Scrum. Sie schafft einen Raum für Reflexion, Problemlösung und Teamentwicklung. Mit den Prinzipien der **Las Vegas Regel** und der **goldenen Regel** sowie einer kreativen und offenen Herangehensweise kann sie nicht nur die Arbeitsweise eines Teams, sondern auch die gesamte Teamkultur nachhaltig verbessern. Ein stark moderiertes, abwechslungsreiches und respektvolles Meeting bietet die Grundlage für ein leistungsfähiges, harmonisches und agiles Team.\n",
    "</details>\n",
    "\n",
    "### Kleines Quiz"
   ]
  },
  {
   "cell_type": "code",
   "execution_count": 1,
   "metadata": {},
   "outputs": [
    {
     "data": {
      "text/markdown": [
       "### Frage 1: Was ist der Hauptzweck einer Scrum-Retrospektive?"
      ],
      "text/plain": [
       "<IPython.core.display.Markdown object>"
      ]
     },
     "metadata": {},
     "output_type": "display_data"
    },
    {
     "data": {
      "text/markdown": [
       "A) Ein Review der Produkt-Features"
      ],
      "text/plain": [
       "<IPython.core.display.Markdown object>"
      ]
     },
     "metadata": {},
     "output_type": "display_data"
    },
    {
     "data": {
      "text/markdown": [
       "B) Die kontinuierliche Verbesserung der Teamarbeit und Prozesse"
      ],
      "text/plain": [
       "<IPython.core.display.Markdown object>"
      ]
     },
     "metadata": {},
     "output_type": "display_data"
    },
    {
     "data": {
      "text/markdown": [
       "C) Planung des nächsten Sprints"
      ],
      "text/plain": [
       "<IPython.core.display.Markdown object>"
      ]
     },
     "metadata": {},
     "output_type": "display_data"
    },
    {
     "data": {
      "text/markdown": [
       "D) Diskussion von Kundenfeedback"
      ],
      "text/plain": [
       "<IPython.core.display.Markdown object>"
      ]
     },
     "metadata": {},
     "output_type": "display_data"
    },
    {
     "name": "stdout",
     "output_type": "stream",
     "text": [
      "❌ Falsch! Die richtige Antwort ist: B\n",
      "\n"
     ]
    },
    {
     "data": {
      "text/markdown": [
       "### Frage 2: Welche Regel besagt, dass alles Besprochene in der Retrospektive vertraulich bleibt?"
      ],
      "text/plain": [
       "<IPython.core.display.Markdown object>"
      ]
     },
     "metadata": {},
     "output_type": "display_data"
    },
    {
     "data": {
      "text/markdown": [
       "A) Goldene Regel"
      ],
      "text/plain": [
       "<IPython.core.display.Markdown object>"
      ]
     },
     "metadata": {},
     "output_type": "display_data"
    },
    {
     "data": {
      "text/markdown": [
       "B) Inspect-and-Adapt-Regel"
      ],
      "text/plain": [
       "<IPython.core.display.Markdown object>"
      ]
     },
     "metadata": {},
     "output_type": "display_data"
    },
    {
     "data": {
      "text/markdown": [
       "C) Las Vegas Regel"
      ],
      "text/plain": [
       "<IPython.core.display.Markdown object>"
      ]
     },
     "metadata": {},
     "output_type": "display_data"
    },
    {
     "data": {
      "text/markdown": [
       "D) Scrum Master Regel"
      ],
      "text/plain": [
       "<IPython.core.display.Markdown object>"
      ]
     },
     "metadata": {},
     "output_type": "display_data"
    },
    {
     "name": "stdout",
     "output_type": "stream",
     "text": [
      "❌ Falsch! Die richtige Antwort ist: C\n",
      "\n"
     ]
    },
    {
     "data": {
      "text/markdown": [
       "### Frage 3: Welche der folgenden Methoden wird typischerweise in einer Retrospektive verwendet?"
      ],
      "text/plain": [
       "<IPython.core.display.Markdown object>"
      ]
     },
     "metadata": {},
     "output_type": "display_data"
    },
    {
     "data": {
      "text/markdown": [
       "A) SWOT-Analyse"
      ],
      "text/plain": [
       "<IPython.core.display.Markdown object>"
      ]
     },
     "metadata": {},
     "output_type": "display_data"
    },
    {
     "data": {
      "text/markdown": [
       "B) KALM (Keep, Add, Less, More)"
      ],
      "text/plain": [
       "<IPython.core.display.Markdown object>"
      ]
     },
     "metadata": {},
     "output_type": "display_data"
    },
    {
     "data": {
      "text/markdown": [
       "C) MoSCoW-Priorisierung"
      ],
      "text/plain": [
       "<IPython.core.display.Markdown object>"
      ]
     },
     "metadata": {},
     "output_type": "display_data"
    },
    {
     "data": {
      "text/markdown": [
       "D) Burndown-Chart"
      ],
      "text/plain": [
       "<IPython.core.display.Markdown object>"
      ]
     },
     "metadata": {},
     "output_type": "display_data"
    },
    {
     "name": "stdout",
     "output_type": "stream",
     "text": [
      "❌ Falsch! Die richtige Antwort ist: B\n",
      "\n"
     ]
    },
    {
     "data": {
      "text/markdown": [
       "### Frage 4: Wer sollte in einer Retrospektive anwesend sein?"
      ],
      "text/plain": [
       "<IPython.core.display.Markdown object>"
      ]
     },
     "metadata": {},
     "output_type": "display_data"
    },
    {
     "data": {
      "text/markdown": [
       "A) Nur der Scrum Master"
      ],
      "text/plain": [
       "<IPython.core.display.Markdown object>"
      ]
     },
     "metadata": {},
     "output_type": "display_data"
    },
    {
     "data": {
      "text/markdown": [
       "B) Das gesamte Scrum-Team"
      ],
      "text/plain": [
       "<IPython.core.display.Markdown object>"
      ]
     },
     "metadata": {},
     "output_type": "display_data"
    },
    {
     "data": {
      "text/markdown": [
       "C) Der Product Owner und Stakeholder"
      ],
      "text/plain": [
       "<IPython.core.display.Markdown object>"
      ]
     },
     "metadata": {},
     "output_type": "display_data"
    },
    {
     "data": {
      "text/markdown": [
       "D) Externe Berater"
      ],
      "text/plain": [
       "<IPython.core.display.Markdown object>"
      ]
     },
     "metadata": {},
     "output_type": "display_data"
    },
    {
     "name": "stdout",
     "output_type": "stream",
     "text": [
      "❌ Falsch! Die richtige Antwort ist: B\n",
      "\n"
     ]
    },
    {
     "data": {
      "text/markdown": [
       "### Frage 5: Was sollte das Ergebnis einer erfolgreichen Retrospektive sein?"
      ],
      "text/plain": [
       "<IPython.core.display.Markdown object>"
      ]
     },
     "metadata": {},
     "output_type": "display_data"
    },
    {
     "data": {
      "text/markdown": [
       "A) Eine Liste mit Aufgaben für das nächste Sprint Planning"
      ],
      "text/plain": [
       "<IPython.core.display.Markdown object>"
      ]
     },
     "metadata": {},
     "output_type": "display_data"
    },
    {
     "data": {
      "text/markdown": [
       "B) SMART-Maßnahmen zur Verbesserung der Teamarbeit"
      ],
      "text/plain": [
       "<IPython.core.display.Markdown object>"
      ]
     },
     "metadata": {},
     "output_type": "display_data"
    },
    {
     "data": {
      "text/markdown": [
       "C) Eine Bewertung der Teammitglieder"
      ],
      "text/plain": [
       "<IPython.core.display.Markdown object>"
      ]
     },
     "metadata": {},
     "output_type": "display_data"
    },
    {
     "data": {
      "text/markdown": [
       "D) Eine Statusmeldung an die Stakeholder"
      ],
      "text/plain": [
       "<IPython.core.display.Markdown object>"
      ]
     },
     "metadata": {},
     "output_type": "display_data"
    },
    {
     "name": "stdout",
     "output_type": "stream",
     "text": [
      "❌ Falsch! Die richtige Antwort ist: B\n",
      "\n"
     ]
    },
    {
     "data": {
      "text/markdown": [
       "### Dein Ergebnis: 0/5 richtig beantwortet!"
      ],
      "text/plain": [
       "<IPython.core.display.Markdown object>"
      ]
     },
     "metadata": {},
     "output_type": "display_data"
    },
    {
     "data": {
      "text/markdown": [
       "🔄 Übung macht den Meister. Schau dir die Inhalte nochmal an!"
      ],
      "text/plain": [
       "<IPython.core.display.Markdown object>"
      ]
     },
     "metadata": {},
     "output_type": "display_data"
    }
   ],
   "source": [
    "# Quiz zu Retrospektiven in Scrum\n",
    "from IPython.display import display, Markdown\n",
    "\n",
    "# Fragen und Antworten\n",
    "quiz = [\n",
    "    {\n",
    "        \"question\": \"Was ist der Hauptzweck einer Scrum-Retrospektive?\",\n",
    "        \"options\": [\n",
    "            \"A) Ein Review der Produkt-Features\",\n",
    "            \"B) Die kontinuierliche Verbesserung der Teamarbeit und Prozesse\",\n",
    "            \"C) Planung des nächsten Sprints\",\n",
    "            \"D) Diskussion von Kundenfeedback\"\n",
    "        ],\n",
    "        \"answer\": \"B\"\n",
    "    },\n",
    "    {\n",
    "        \"question\": \"Welche Regel besagt, dass alles Besprochene in der Retrospektive vertraulich bleibt?\",\n",
    "        \"options\": [\n",
    "            \"A) Goldene Regel\",\n",
    "            \"B) Inspect-and-Adapt-Regel\",\n",
    "            \"C) Las Vegas Regel\",\n",
    "            \"D) Scrum Master Regel\"\n",
    "        ],\n",
    "        \"answer\": \"C\"\n",
    "    },\n",
    "    {\n",
    "        \"question\": \"Welche der folgenden Methoden wird typischerweise in einer Retrospektive verwendet?\",\n",
    "        \"options\": [\n",
    "            \"A) SWOT-Analyse\",\n",
    "            \"B) KALM (Keep, Add, Less, More)\",\n",
    "            \"C) MoSCoW-Priorisierung\",\n",
    "            \"D) Burndown-Chart\"\n",
    "        ],\n",
    "        \"answer\": \"B\"\n",
    "    },\n",
    "    {\n",
    "        \"question\": \"Wer sollte in einer Retrospektive anwesend sein?\",\n",
    "        \"options\": [\n",
    "            \"A) Nur der Scrum Master\",\n",
    "            \"B) Das gesamte Scrum-Team\",\n",
    "            \"C) Der Product Owner und Stakeholder\",\n",
    "            \"D) Externe Berater\"\n",
    "        ],\n",
    "        \"answer\": \"B\"\n",
    "    },\n",
    "    {\n",
    "        \"question\": \"Was sollte das Ergebnis einer erfolgreichen Retrospektive sein?\",\n",
    "        \"options\": [\n",
    "            \"A) Eine Liste mit Aufgaben für das nächste Sprint Planning\",\n",
    "            \"B) SMART-Maßnahmen zur Verbesserung der Teamarbeit\",\n",
    "            \"C) Eine Bewertung der Teammitglieder\",\n",
    "            \"D) Eine Statusmeldung an die Stakeholder\"\n",
    "        ],\n",
    "        \"answer\": \"B\"\n",
    "    }\n",
    "]\n",
    "\n",
    "# Funktion zur Durchführung des Quiz\n",
    "def run_quiz(quiz):\n",
    "    score = 0\n",
    "    for i, item in enumerate(quiz):\n",
    "        display(Markdown(f\"### Frage {i+1}: {item['question']}\"))\n",
    "        for option in item[\"options\"]:\n",
    "            display(Markdown(option))\n",
    "        user_answer = input(\"Deine Antwort (A, B, C oder D): \").strip().upper()\n",
    "        if user_answer == item[\"answer\"]:\n",
    "            print(\"✅ Richtig!\")\n",
    "            score += 1\n",
    "        else:\n",
    "            print(f\"❌ Falsch! Die richtige Antwort ist: {item['answer']}\")\n",
    "        print()\n",
    "    display(Markdown(f\"### Dein Ergebnis: {score}/{len(quiz)} richtig beantwortet!\"))\n",
    "    if score == len(quiz):\n",
    "        display(Markdown(\"🎉 Glückwunsch! Du bist ein Retrospektiven-Profi!\"))\n",
    "    elif score > len(quiz) // 2:\n",
    "        display(Markdown(\"👍 Guter Job! Aber es gibt noch Raum für Verbesserung.\"))\n",
    "    else:\n",
    "        display(Markdown(\"🔄 Übung macht den Meister. Schau dir die Inhalte nochmal an!\"))\n",
    "\n",
    "# Quiz starten\n",
    "run_quiz(quiz)"
   ]
  }
 ],
 "metadata": {
  "kernelspec": {
   "display_name": "Python 3",
   "language": "python",
   "name": "python3"
  },
  "language_info": {
   "codemirror_mode": {
    "name": "ipython",
    "version": 3
   },
   "file_extension": ".py",
   "mimetype": "text/x-python",
   "name": "python",
   "nbconvert_exporter": "python",
   "pygments_lexer": "ipython3",
   "version": "3.9.13"
  }
 },
 "nbformat": 4,
 "nbformat_minor": 2
}
