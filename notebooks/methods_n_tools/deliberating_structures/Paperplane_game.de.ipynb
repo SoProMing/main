{
 "cells": [
  {
   "cell_type": "markdown",
   "metadata": {},
   "source": [
    "[Produkt & Projekt](../../theory/Project_Products.de.ipynb) / [Methoden](../../methods_n_tools/Methods.de.ipynb) / [Deliberating structures](Deliberating_Structures.de.ipynb)\n",
    "\n",
    "# Paperplane Spiel\n",
    "\n",
    "<table border=\"0\">\n",
    "  <tr>\n",
    "    <td>\n",
    "        <img src=\"Paperplane.webp\">\n",
    "    </td>\n",
    "    <td rowspan=\"2\">\n",
    "        <a href=\"https://miro.com/app/board/uXjVLKHGo6E=/?moveToWidget=3458764605541796363&cot=14\"><img src=\"Radar_Paperplane_Game.de.jpg\"></a>\n",
    "    </td>\n",
    "  </tr>\n",
    "  <tr>\n",
    "    <td>\n",
    "      <a href=\"https://butterflying.de/agile-game/top-15-der-bekanntesten-agile-games/\" target=\"_blank\">Top 15 der bekanntesten Agile Games - butterflying.de</a><br>\n",
    "      <a href=\"https://www.iese.fraunhofer.de/blog/agile-games/\" target=\"_blank\">Agile Spiele: Eine Übersicht und Kategorisierung - Fraunhofer IESE</a><br>\n",
    "      <a href=\"https://www.sessionlab.com/blog/agile-games-and-activities/\" target=\"_blank\">25 Agile Games to improve team performance and collaboration - SessionLab</a><br>\n",
    "      <a href=\"https://agilecoffee.com/games/\" target=\"_blank\">Agile games, simulations and learning activities - Agile Coffee</a><br>\n",
    "      <a href=\"https://clickup.com/de/blog/131544/agile-spiele\" target=\"_blank\">25 Agile Spiele zur Steigerung der Leistung und Zusammenarbeit - ClickUp</a><br>\n",
    "      <a href=\"https://agilescrumgroup.de/agile-spiele/\" target=\"_blank\">Agile Spiele: warum sie nützlich sind (+ 3 Beispiele) - Agile Scrum Group</a><br>\n",
    "      <a href=\"https://marcospoerl.de/blog/agile-spiele-und-simulationen-in-der-teamentwicklung\" target=\"_blank\">Agile Spiele und Simulationen in der Teamentwicklung - Marco Spörl</a><br>\n",
    "      <a href=\"https://clickup.com/blog/agile-games/\" target=\"_blank\">25 Agile Games to Boost Team Performance and Collaboration - ClickUp</a><br>\n",
    "      <a href=\"https://scrumtale.com/\" target=\"_blank\">ScrumTale - Scrum Simulation Game</a><br>\n",
    "      <a href=\"https://www.invensislearning.com/blog/best-agile-games/\" target=\"_blank\">The 8 Best Agile Games for Improving Team Performance - Invensis Learning</a><br>\n",
    "    </td>\n",
    "  </tr>\n",
    "</table>\n",
    "\n",
    "Hier ist die gesamte Beschreibung des **Paper Plane Games** mit den integrierten Rollen und Veränderungen der Produktanforderungen:\n",
    "\n",
    "---\n",
    "\n",
    "### **Paper Plane Game – Agile Simulation mit Rollen und Veränderungen der Produktanforderungen**\n",
    "\n",
    "#### **Ziele des Spiels:**\n",
    "- **Verständnis der agilen Prinzipien:** Die Studierenden erleben die Vorteile von Iteration, Feedback und kontinuierlicher Verbesserung.\n",
    "- **Simulation von Teamrollen:** Einführung der wichtigsten agilen Rollen wie Product Owner, Frontend-Entwickler, Backend-Entwickler und Scrum Master.\n",
    "- **Veränderung von Produktanforderungen:** Simulieren von Änderungen während des Projekts, um das Management von sich ändernden Anforderungen zu erleben.\n",
    "\n",
    "#### **Benötigte Materialien:**\n",
    "- Papier (A4 oder ähnlich) für die Papierflieger.\n",
    "- Stifte oder Marker zum Beschriften der Flieger.\n",
    "- Maßband oder Lineal zur Messung der Flugdistanzen.\n",
    "- (Optional) Notizkarten für Feedback.\n",
    "- Materialien für verschiedene Designs (z.B. Klebeband, farbiges Papier, etc.).\n",
    "\n",
    "#### **Rollen im Spiel:**\n",
    "1. **Product Owner (PO):** \n",
    "   - Verantwortlich für die Produktvision und Priorisierung der Anforderungen. Gibt die Anforderungen und Änderungen vor und stellt sicher, dass das Team auf das richtige Ziel hinarbeitet.\n",
    "   \n",
    "2. **Frontend-Entwickler (FE):** \n",
    "   - Fokussiert sich auf das Design des Fliegers und die Benutzererfahrung. Sorgt dafür, dass der Flieger ästhetisch und ansprechend aussieht.\n",
    "   \n",
    "3. **Backend-Entwickler (BE):** \n",
    "   - Verantwortlich für die Stabilität des Fliegers und die Flugeigenschaften. Stellt sicher, dass der Flieger stabil fliegt und strukturell gut funktioniert.\n",
    "   \n",
    "4. **Scrum Master (SM):** \n",
    "   - Moderiert das Team, hilft bei der Organisation des Prozesses und sorgt dafür, dass das Team effizient arbeitet und agile Prinzipien befolgt.\n",
    "\n",
    "#### **Ablauf des Spiels:**\n",
    "\n",
    "**1. Einführung und Rollenverteilung (20 Minuten)**\n",
    "   - **Ziele:** Den Teilnehmern die agilen Rollen und ihre Verantwortlichkeiten erklären.\n",
    "   - Die Teilnehmer werden in Teams eingeteilt, wobei jede Rolle im Team besetzt wird (PO, FE, BE, SM).\n",
    "   - Klärung der Aufgaben der jeweiligen Rollen:\n",
    "     - **PO:** Gibt Anforderungen vor und priorisiert Änderungen.\n",
    "     - **FE:** Arbeitet am Design des Fliegers.\n",
    "     - **BE:** Stellt sicher, dass der Flieger funktional und stabil ist.\n",
    "     - **SM:** Moderiert den Prozess und sorgt für eine effektive Zusammenarbeit.\n",
    "\n",
    "**2. Erste Iteration (15 Minuten)**\n",
    "   - **Aktivität:** \n",
    "     - Die Teams haben 5 Minuten Zeit, um ihren ersten Papierflieger zu bauen.\n",
    "     - **PO:** Gibt die grundlegende Anforderung vor (z.B. „Der Flieger muss gut fliegen und stabil sein“).\n",
    "     - **FE:** Konzentriert sich darauf, den Flieger ästhetisch zu gestalten.\n",
    "     - **BE:** Sorgt dafür, dass der Flieger stabil genug ist, um zu fliegen.\n",
    "     - **SM:** Hilft dabei, den Prozess zu moderieren und stellt sicher, dass jeder in seiner Rolle bleibt.\n",
    "   - **Flugversuch:** Jedes Team lässt seinen Flieger fliegen und misst die Distanz.\n",
    "\n",
    "**3. Feedback und Anpassungen (10 Minuten)**\n",
    "   - **Aktivität:** \n",
    "     - Jedes Team gibt sich gegenseitig Feedback über den Flieger.\n",
    "     - **PO:** Priorisiert das Feedback und bestimmt, welche Änderungen für die nächste Iteration wichtig sind.\n",
    "     - **FE und BE:** Überlegen, wie sie den Flieger entsprechend den Anforderungen des PO verbessern können.\n",
    "     - **SM:** Moderiert die Diskussion und stellt sicher, dass die Verbesserungen schnell umgesetzt werden.\n",
    "\n",
    "**4. Einführung von Änderungen der Produktanforderungen (15 Minuten)**\n",
    "   - **Aktivität:** \n",
    "     - Nach der ersten Iteration führt der **PO** eine Änderung der Produktanforderungen ein, z.B.:\n",
    "       - „Der Flieger muss aus mindestens zwei verschiedenen Papierarten bestehen.“\n",
    "       - „Der Flieger muss ein Designmerkmal haben (z.B. eine Markierung oder ein Logo).“\n",
    "     - **FE:** Arbeitet an der ästhetischen Anpassung, um das Design zu ändern.\n",
    "     - **BE:** Sorgt dafür, dass die Änderungen die Flugeigenschaften des Fliegers nicht beeinträchtigen.\n",
    "     - **SM:** Stellt sicher, dass die Anforderungen klar sind und dass das Team effizient zusammenarbeitet, um die Änderungen umzusetzen.\n",
    "\n",
    "**5. Weitere Iterationen (30 Minuten)**\n",
    "   - **Aktivität:** \n",
    "     - Weitere Iterationen, bei denen neue Anforderungen oder Änderungen hinzugefügt werden. Jede Runde könnte eine neue Anforderung beinhalten:\n",
    "       - „Der Flieger muss in der Lage sein, mindestens zwei Kurven in der Luft zu fliegen.“\n",
    "       - „Der Flieger muss in weniger als 5 Sekunden gefaltet werden.“\n",
    "     - In jeder Iteration:\n",
    "       - **PO:** Gibt die neue Anforderung vor und sorgt dafür, dass das Team die richtigen Prioritäten setzt.\n",
    "       - **FE und BE:** Passen ihre Arbeit an, um die neuen Anforderungen zu erfüllen.\n",
    "       - **SM:** Moderiert den Prozess, achtet auf den Fortschritt und sorgt für einen effektiven Ablauf.\n",
    "     - **Flugversuche:** Nach jeder Iteration fliegen die Teams ihren Flieger erneut und messen die Distanz.\n",
    "\n",
    "**6. Abschlussdiskussion (15 Minuten)**\n",
    "   - **Aktivität:** \n",
    "     - Reflexion über die Erfahrung: \n",
    "       - Wie haben die Teams auf die Änderungen reagiert?\n",
    "       - Welche Herausforderungen gab es bei der Anpassung der Flieger an die neuen Anforderungen?\n",
    "       - Wie haben sich die Teamrollen auf den Erfolg der Iterationen ausgewirkt?\n",
    "   - **PO:** Diskutiert, wie die Anforderungen priorisiert wurden und ob der Fokus richtig gesetzt war.\n",
    "   - **FE und BE:** Teilen ihre Erfahrungen, wie sie zusammengearbeitet haben, um Design und Funktionalität in Einklang zu bringen.\n",
    "   - **SM:** Reflektiert darüber, wie der agile Prozess während des Spiels unterstützt wurde.\n",
    "\n",
    "---\n",
    "\n",
    "### **Schlussfolgerungen und Agile Prinzipien**\n",
    "\n",
    "- **Iterative Verbesserung:** Die Teams haben gelernt, wie wichtig es ist, regelmäßig Feedback zu erhalten und den Flieger basierend auf diesem Feedback zu verbessern – ähnlich wie bei der kontinuierlichen Verbesserung in agilen Projekten.\n",
    "- **Zusammenarbeit und Kommunikation:** Die Simulation fördert die Bedeutung der Zusammenarbeit zwischen den verschiedenen Rollen. Der PO sorgt für die Priorisierung der Anforderungen, der FE kümmert sich um das Design, der BE um die Stabilität, und der SM sorgt für den reibungslosen Ablauf.\n",
    "- **Veränderung der Anforderungen:** Die Einführung von Änderungen der Produktanforderungen in jeder Runde zeigt, wie agile Teams mit wechselnden Anforderungen umgehen und schnell reagieren können.\n",
    "\n",
    "Mit dieser Simulation können die Studierenden die dynamische und kollaborative Natur agiler Methoden in einer praktischen, interaktiven Weise erleben."
   ]
  },
  {
   "cell_type": "markdown",
   "metadata": {},
   "source": [
    "## Paperplane Spiel Begleitprogramm\n",
    "\n",
    "Das folgende **Agile Paper Plane Game**-Programm simuliert den Einsatz agiler Methoden, indem Teams mit verschiedenen Rollen (z.B. Product Owner, Frontend- und Backend-Entwickler, Scrum Master) arbeiten, um Papierflieger zu bauen. In jeder Iteration haben die Teams 30 Sekunden Zeit, einen Flieger zu erstellen, der einer vorgegebenen Anforderung entspricht. Nach jeder Iteration erhalten sie Feedback und müssen ihren Flieger anpassen. Das Programm zeigt den gesamten Prozess, einschließlich der Anzeige von Anforderungen, eines Countdown-Timers für jede Iteration und der Möglichkeit, Feedback zu geben, was die Prinzipien der kontinuierlichen Verbesserung und Anpassung in agilen Projekten simuliert."
   ]
  },
  {
   "cell_type": "code",
   "execution_count": null,
   "metadata": {},
   "outputs": [
    {
     "data": {
      "application/vnd.jupyter.widget-view+json": {
       "model_id": "9f1b9d90a52b4dc9adf44a916d220502",
       "version_major": 2,
       "version_minor": 0
      },
      "text/plain": [
       "Text(value='', description='Product Owner for Team A:', layout=Layout(width='300px'))"
      ]
     },
     "metadata": {},
     "output_type": "display_data"
    },
    {
     "data": {
      "application/vnd.jupyter.widget-view+json": {
       "model_id": "4a8e98fb5eca4ab683490122d9f3ba86",
       "version_major": 2,
       "version_minor": 0
      },
      "text/plain": [
       "Text(value='', description='Frontend Engineer for Team A:', layout=Layout(width='300px'))"
      ]
     },
     "metadata": {},
     "output_type": "display_data"
    },
    {
     "data": {
      "application/vnd.jupyter.widget-view+json": {
       "model_id": "4878d6f4d22c4fb6929a06d56d3830a0",
       "version_major": 2,
       "version_minor": 0
      },
      "text/plain": [
       "Text(value='', description='Backend Engineer for Team A:', layout=Layout(width='300px'))"
      ]
     },
     "metadata": {},
     "output_type": "display_data"
    },
    {
     "data": {
      "application/vnd.jupyter.widget-view+json": {
       "model_id": "f8bcd12171cf4f15a303f3f3ba1eb40b",
       "version_major": 2,
       "version_minor": 0
      },
      "text/plain": [
       "Text(value='', description='Scrum Master for Team A:', layout=Layout(width='300px'))"
      ]
     },
     "metadata": {},
     "output_type": "display_data"
    },
    {
     "data": {
      "application/vnd.jupyter.widget-view+json": {
       "model_id": "24bd936be6c84d94a88dcb6255295db1",
       "version_major": 2,
       "version_minor": 0
      },
      "text/plain": [
       "Text(value='', description='Product Owner for Team B:', layout=Layout(width='300px'))"
      ]
     },
     "metadata": {},
     "output_type": "display_data"
    },
    {
     "data": {
      "application/vnd.jupyter.widget-view+json": {
       "model_id": "33e348215cec464ebc140f1843689de0",
       "version_major": 2,
       "version_minor": 0
      },
      "text/plain": [
       "Text(value='', description='Frontend Engineer for Team B:', layout=Layout(width='300px'))"
      ]
     },
     "metadata": {},
     "output_type": "display_data"
    },
    {
     "data": {
      "application/vnd.jupyter.widget-view+json": {
       "model_id": "f229e7b369ec4763b779235986c9e411",
       "version_major": 2,
       "version_minor": 0
      },
      "text/plain": [
       "Text(value='', description='Backend Engineer for Team B:', layout=Layout(width='300px'))"
      ]
     },
     "metadata": {},
     "output_type": "display_data"
    },
    {
     "data": {
      "application/vnd.jupyter.widget-view+json": {
       "model_id": "6e96fa014bb14dc98ca3e36cb1488c6f",
       "version_major": 2,
       "version_minor": 0
      },
      "text/plain": [
       "Text(value='', description='Scrum Master for Team B:', layout=Layout(width='300px'))"
      ]
     },
     "metadata": {},
     "output_type": "display_data"
    },
    {
     "data": {
      "application/vnd.jupyter.widget-view+json": {
       "model_id": "9477c04e5b064d5b83c87c802b550df7",
       "version_major": 2,
       "version_minor": 0
      },
      "text/plain": [
       "Button(description='Start Game', style=ButtonStyle())"
      ]
     },
     "metadata": {},
     "output_type": "display_data"
    },
    {
     "name": "stdout",
     "output_type": "stream",
     "text": [
      "Welcome to the Agile Paper Plane Game!\n",
      "\n",
      "\n",
      "Game Starting...\n",
      "\n",
      "\n",
      "--- Iteration 1 ---\n",
      "\n",
      "New Requirement: The paper plane must perform at least two turns in the air.\n",
      "You have 30 seconds to complete this iteration.\n"
     ]
    },
    {
     "data": {
      "application/vnd.jupyter.widget-view+json": {
       "model_id": "d6e041657251492089781fbdff1ba83a",
       "version_major": 2,
       "version_minor": 0
      },
      "text/plain": [
       "Label(value='Remaining time: 30s')"
      ]
     },
     "metadata": {},
     "output_type": "display_data"
    },
    {
     "name": "stdout",
     "output_type": "stream",
     "text": [
      "\n",
      "Feedback Time:\n"
     ]
    },
    {
     "data": {
      "application/vnd.jupyter.widget-view+json": {
       "model_id": "a97b7bb19bf046bcb5d706bd1e9d6960",
       "version_major": 2,
       "version_minor": 0
      },
      "text/plain": [
       "Text(value='', description='Feedback:')"
      ]
     },
     "metadata": {},
     "output_type": "display_data"
    },
    {
     "name": "stdout",
     "output_type": "stream",
     "text": [
      "You have 10 seconds to complete the feedback.\n"
     ]
    },
    {
     "data": {
      "application/vnd.jupyter.widget-view+json": {
       "model_id": "8576666d7ac24820a0293d0ae2cba9f0",
       "version_major": 2,
       "version_minor": 0
      },
      "text/plain": [
       "Label(value='Remaining time: 10s')"
      ]
     },
     "metadata": {},
     "output_type": "display_data"
    },
    {
     "name": "stdout",
     "output_type": "stream",
     "text": [
      "\n",
      "Starting next iteration...\n",
      "\n",
      "\n",
      "--- Iteration 2 ---\n",
      "\n",
      "New Requirement: The paper plane must be made of at least two different types of paper.\n",
      "You have 30 seconds to complete this iteration.\n"
     ]
    },
    {
     "data": {
      "application/vnd.jupyter.widget-view+json": {
       "model_id": "7463437a574b46b6b60fdc9ebf404e87",
       "version_major": 2,
       "version_minor": 0
      },
      "text/plain": [
       "Label(value='Remaining time: 30s')"
      ]
     },
     "metadata": {},
     "output_type": "display_data"
    },
    {
     "name": "stdout",
     "output_type": "stream",
     "text": [
      "\n",
      "Feedback Time:\n"
     ]
    },
    {
     "data": {
      "application/vnd.jupyter.widget-view+json": {
       "model_id": "3a56d55855144f5d8a621d1ec52674b7",
       "version_major": 2,
       "version_minor": 0
      },
      "text/plain": [
       "Text(value='', description='Feedback:')"
      ]
     },
     "metadata": {},
     "output_type": "display_data"
    },
    {
     "name": "stdout",
     "output_type": "stream",
     "text": [
      "You have 10 seconds to complete the feedback.\n"
     ]
    },
    {
     "data": {
      "application/vnd.jupyter.widget-view+json": {
       "model_id": "dd9ae0772b554ca5a7afbf2fd91c376d",
       "version_major": 2,
       "version_minor": 0
      },
      "text/plain": [
       "Label(value='Remaining time: 10s')"
      ]
     },
     "metadata": {},
     "output_type": "display_data"
    },
    {
     "name": "stdout",
     "output_type": "stream",
     "text": [
      "\n",
      "Starting next iteration...\n",
      "\n",
      "\n",
      "--- Iteration 3 ---\n",
      "\n",
      "New Requirement: The paper plane must be folded in less than 5 seconds.\n",
      "You have 30 seconds to complete this iteration.\n"
     ]
    },
    {
     "data": {
      "application/vnd.jupyter.widget-view+json": {
       "model_id": "b0742f388f4147abab7c67a9ce56ed59",
       "version_major": 2,
       "version_minor": 0
      },
      "text/plain": [
       "Label(value='Remaining time: 30s')"
      ]
     },
     "metadata": {},
     "output_type": "display_data"
    },
    {
     "name": "stdout",
     "output_type": "stream",
     "text": [
      "\n",
      "Feedback Time:\n"
     ]
    },
    {
     "data": {
      "application/vnd.jupyter.widget-view+json": {
       "model_id": "bf41a10ff8f14f5d9c22be7f935e13c0",
       "version_major": 2,
       "version_minor": 0
      },
      "text/plain": [
       "Text(value='', description='Feedback:')"
      ]
     },
     "metadata": {},
     "output_type": "display_data"
    },
    {
     "name": "stdout",
     "output_type": "stream",
     "text": [
      "You have 10 seconds to complete the feedback.\n"
     ]
    },
    {
     "data": {
      "application/vnd.jupyter.widget-view+json": {
       "model_id": "49fe0fb108924a07b79c80ab638e8a82",
       "version_major": 2,
       "version_minor": 0
      },
      "text/plain": [
       "Label(value='Remaining time: 10s')"
      ]
     },
     "metadata": {},
     "output_type": "display_data"
    },
    {
     "name": "stdout",
     "output_type": "stream",
     "text": [
      "\n",
      "Starting next iteration...\n",
      "\n",
      "Feedback: \n",
      "Feedback: \n",
      "Feedback: \n",
      "Feedback: \n",
      "Feedback: \n",
      "Feedback: \n",
      "Feedback: \n",
      "Feedback: \n",
      "Feedback: k\n",
      "Feedback: kj\n",
      "Feedback: kjj\n",
      "Feedback: kjjl\n",
      "Feedback: kjjlk\n",
      "Feedback: kjjlkj\n",
      "Feedback: kjjlk\n",
      "Feedback: kjjl\n",
      "Feedback: kjj\n",
      "Feedback: kj\n",
      "Feedback: k\n",
      "Feedback: \n",
      "Feedback: \n",
      "Feedback: \n",
      "Feedback: \n",
      "Feedback: \n",
      "Feedback: \n",
      "Feedback: \n",
      "Feedback: \n",
      "Feedback: \n",
      "Feedback: \n",
      "Feedback: \n",
      "Feedback: \n",
      "Feedback: \n"
     ]
    }
   ],
   "source": [
    "import time\n",
    "import random\n",
    "import ipywidgets as widgets\n",
    "from IPython.display import display, clear_output\n",
    "\n",
    "# Define the roles\n",
    "roles = [\"Product Owner\", \"Frontend Engineer\", \"Backend Engineer\", \"Scrum Master\"]\n",
    "\n",
    "# Define the possible changes in requirements\n",
    "requirements_changes = [\n",
    "    \"The paper plane must be made of at least two different types of paper.\",\n",
    "    \"The paper plane must have a design feature (e.g., a logo or a marking).\",\n",
    "    \"The paper plane must perform at least two turns in the air.\",\n",
    "    \"The paper plane must be folded in less than 5 seconds.\"\n",
    "]\n",
    "\n",
    "# Define the teams\n",
    "teams = {\n",
    "    \"Team A\": {\"PO\": \"\", \"FE\": \"\", \"BE\": \"\", \"SM\": \"\"},\n",
    "    \"Team B\": {\"PO\": \"\", \"FE\": \"\", \"BE\": \"\", \"SM\": \"\"}\n",
    "}\n",
    "\n",
    "# Create text widgets to input role names\n",
    "role_inputs = {}\n",
    "for team in teams:\n",
    "    role_inputs[team] = {}\n",
    "    for role in roles:\n",
    "        role_inputs[team][role] = widgets.Text(\n",
    "            description=f'{role} for {team}:', \n",
    "            layout=widgets.Layout(width='300px')\n",
    "        )\n",
    "        display(role_inputs[team][role])\n",
    "\n",
    "# Time tracking for iterations with countdown\n",
    "def time_iteration(duration):\n",
    "    remaining_time = duration\n",
    "    timer_label = widgets.Label(value=f\"Remaining time: {remaining_time}s\")\n",
    "    display(timer_label)\n",
    "    \n",
    "    def countdown():\n",
    "        nonlocal remaining_time\n",
    "        while remaining_time > 0:\n",
    "            time.sleep(1)\n",
    "            remaining_time -= 1\n",
    "            timer_label.value = f\"Remaining time: {remaining_time}s\"\n",
    "        \n",
    "        # Once time is up, display the message for feedback\n",
    "        timer_label.value = f\"Time's up! You can now provide feedback.\"\n",
    "        return remaining_time\n",
    "\n",
    "    countdown()\n",
    "\n",
    "# Function to start the game\n",
    "def start_game():\n",
    "    print(\"Welcome to the Agile Paper Plane Game!\\n\")\n",
    "    \n",
    "    # Get roles from inputs\n",
    "    for team in teams:\n",
    "        for role in roles:\n",
    "            teams[team][role] = role_inputs[team][role].value\n",
    "            \n",
    "    print(\"\\nGame Starting...\\n\")\n",
    "    \n",
    "    # Start iterations\n",
    "    for iteration in range(3):\n",
    "        print(f\"\\n--- Iteration {iteration + 1} ---\")\n",
    "        \n",
    "        # Display the requirement for this iteration\n",
    "        new_requirement = random.choice(requirements_changes)\n",
    "        print(f\"\\nNew Requirement: {new_requirement}\")\n",
    "        \n",
    "        # Simulate time taken to build the plane with a countdown\n",
    "        print(\"You have 30 seconds to complete this iteration.\")\n",
    "        time_iteration(30)  # 30 seconds countdown per iteration\n",
    "        \n",
    "        # Provide feedback after each iteration\n",
    "        print(\"\\nFeedback Time:\")\n",
    "        feedback = widgets.Text(description=\"Feedback:\")\n",
    "        display(feedback)\n",
    "        \n",
    "        def on_submit_change(change):\n",
    "            print(f\"Feedback: {feedback.value}\")\n",
    "        \n",
    "        feedback.observe(on_submit_change, names='value')\n",
    "        \n",
    "        # Simulate time taken to build the plane with a countdown\n",
    "        print(\"You have 10 seconds to complete the feedback.\")\n",
    "        time_iteration(10)  # 10 seconds countdown per feedback\n",
    "        \n",
    "        # After countdown and feedback, start the next iteration\n",
    "        print(\"\\nStarting next iteration...\\n\")\n",
    "        #clear_output(wait=True)  # Clears the output to keep it clean and show the next iteration\n",
    "\n",
    "# Button to start the game\n",
    "start_button = widgets.Button(description=\"Start Game\")\n",
    "start_button.on_click(lambda x: start_game())\n",
    "display(start_button)"
   ]
  },
  {
   "cell_type": "markdown",
   "metadata": {},
   "source": [
    "### Erklärung:\n",
    "\n",
    "1.  **Rollen und Teamaufbau:**  Zu Beginn des Spiels müssen die Teilnehmer für jedes Team ihre Rollen festlegen (Product Owner, Frontend-Entwickler, Backend-Entwickler, Scrum Master). Jede Rolle hat spezifische Aufgaben:\n",
    "    \n",
    "    -   Der  **Product Owner**  legt die Anforderungen fest und priorisiert Änderungen.\n",
    "    -   Der  **Frontend-Entwickler**  ist für das Design des Fliegers verantwortlich.\n",
    "    -   Der  **Backend-Entwickler**  sorgt für die Flugeigenschaften und Stabilität des Fliegers.\n",
    "    -   Der  **Scrum Master**  sorgt dafür, dass der Prozess reibungslos abläuft und unterstützt das Team bei der Zusammenarbeit.\n",
    "2.  **Iterationen und Anforderungen:**  In jeder Iteration haben die Teams 30 Sekunden Zeit, um ihren Flieger zu bauen, wobei eine neue Anforderung durch den Product Owner vorgegeben wird. Diese Anforderungen können Änderungen im Design, der Funktionalität oder der Flugeigenschaft des Fliegers betreffen.\n",
    "    \n",
    "3.  **Countdown:**  Der Countdown zeigt die verbleibende Zeit für jede Iteration an. Nach Ablauf der Zeit müssen die Teams Feedback zu ihren Fliegern geben, das anschließend in die nächste Iteration integriert wird.\n",
    "    \n",
    "4.  **Feedback:**  Nach jeder Iteration können die Teams ihr Feedback zu den Anpassungen und dem Bau des Fliegers geben. Dies stellt sicher, dass die Teams auf das Feedback reagieren und die Anforderungen kontinuierlich verbessern.\n",
    "\n",
    "Das Spiel fördert die Zusammenarbeit im Team, das schnelle Reagieren auf Änderungen und das Anwenden von agilem Feedback in einem interaktiven und spielerischen Rahmen."
   ]
  }
 ],
 "metadata": {
  "kernelspec": {
   "display_name": "Python 3",
   "language": "python",
   "name": "python3"
  },
  "language_info": {
   "codemirror_mode": {
    "name": "ipython",
    "version": 3
   },
   "file_extension": ".py",
   "mimetype": "text/x-python",
   "name": "python",
   "nbconvert_exporter": "python",
   "pygments_lexer": "ipython3",
   "version": "3.9.13"
  }
 },
 "nbformat": 4,
 "nbformat_minor": 2
}
