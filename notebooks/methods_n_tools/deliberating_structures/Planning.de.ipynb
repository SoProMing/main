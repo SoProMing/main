{
 "cells": [
  {
   "cell_type": "markdown",
   "metadata": {},
   "source": [
    "[Software Product Mastering](../../abstract/Contents.de.ipynb) / [Inhaltsverzeichnis](../../abstract/Contents.de.ipynb) / [Produkt & Projekt](../../theory/Project_Products.de.ipynb) / [Methoden](../../methods_n_tools/Methods.de.ipynb) / [Deliberating structures](Deliberating_Structures.de.ipynb)\n",
    "\n",
    "# Sprint Planning in Scrum\n",
    "\n",
    "<table border=\"0\">\n",
    "  <tr>\n",
    "    <td>\n",
    "        <img src=\"Planning.webp\">\n",
    "    </td>\n",
    "    <td rowspan=\"2\">\n",
    "        <a href=\"https://miro.com/app/board/uXjVLKHGo6E=/?moveToWidget=3458764605541796363&cot=14\"><img src=\"Radar_Planning.de.jpg\"></a>\n",
    "    </td>\n",
    "  </tr>\n",
    "  <tr>\n",
    "    <td>\n",
    "      <a href=\"https://www.scrum.org/resources/what-is-sprint-planning\">What is Sprint Planning - Scrum.org</a><br>\n",
    "      <a href=\"https://www.mountaingoatsoftware.com/agile/scrum/sprint-planning-meeting\">Sprint Planning Meeting - Mountain Goat Software</a><br>\n",
    "      <a href=\"https://www.atlassian.com/agile/scrum/sprint-planning\">Sprint Planning in Scrum - Atlassian</a><br>\n",
    "      <a href=\"https://scrumguides.org/scrum-guide.html#sprints-planning\">Official Scrum Guide: Sprint Planning</a><br>\n",
    "      <a href=\"https://www.agilealliance.org/glossary/sprint-planning/\">Sprint Planning - Agile Alliance</a><br>\n",
    "      <a href=\"https://www.pluralsight.com/blog/software-development/scrum-sprint-planning\">How to Do Scrum Sprint Planning - Pluralsight</a><br>\n",
    "      <a href=\"https://www.dummies.com/article/business-careers-money/business/project-management/scrum/sprint-planning-essentials-256836/\">Sprint Planning Essentials - Dummies</a><br>\n",
    "      <a href=\"https://www.visual-paradigm.com/scrum/sprint-planning-meeting/\">Sprint Planning Meeting Guide - Visual Paradigm</a><br>\n",
    "    </td>\n",
    "  </tr>\n",
    "</table>\n",
    "\n",
    "### Zusammenfassung\n",
    "\n",
    "#### Zweck\n",
    "- Sprint-Ziel definieren: Klare Richtung und Priorität.\n",
    "- Backlog-Items auswählen: Relevante Aufgaben für den Sprint bestimmen.\n",
    "- Umsetzung planen: Aufgaben in kleinere, realisierbare Tasks zerlegen.\n",
    "\n",
    "#### Ablauf\n",
    "1. **Was soll erreicht werden?**\n",
    "   - Product Owner präsentiert priorisierte Backlog-Items.\n",
    "   - Team klärt Anforderungen und definiert das Sprint-Ziel.\n",
    "2. **Wie wird das Ziel erreicht?**\n",
    "   - Team plant technische Umsetzung und schätzt den Aufwand.\n",
    "   - Tasks werden erstellt und organisiert.\n",
    "\n",
    "#### Teilnehmer\n",
    "- **Product Owner**: Definiert Anforderungen, klärt Fragen.\n",
    "- **Scrum Master**: Moderiert, sorgt für Prozess-Einhaltung.\n",
    "- **Development Team**: Plant und verantwortet die Umsetzung.\n",
    "\n",
    "#### Ergebnisse\n",
    "- **Sprint Backlog**: Liste der zu bearbeitenden Tasks.\n",
    "- **Sprint-Ziel**: Klar definiertes Ergebnis.\n",
    "- **Gemeinsames Verständnis**: Team ist ausgerichtet.\n",
    "\n",
    "#### Best Practices\n",
    "- Gut gepflegtes Backlog und klare Anforderungen (DoR).\n",
    "- Fokus auf das Sprint-Ziel, keine Detailversessenheit.\n",
    "- Timeboxing: Max. 2 Stunden pro Sprint-Woche.\n",
    "\n",
    "#### Typische Herausforderungen\n",
    "- Unklare oder unvorbereitete Anforderungen.\n",
    "- Überladung des Sprints.\n",
    "- Fehlender Fokus auf das Ziel.\n",
    "- Externe Unterbrechungen.\n",
    "\n",
    "#### Tools & Techniken\n",
    "- **Planning Poker**: Gemeinsame Aufwandsschätzung.\n",
    "- **User Story Mapping**: Anforderungen visuell organisieren.\n",
    "- **Digitale Tools**: Jira, Trello oder Azure DevOps.\n",
    "- **Definition of Done (DoD)**: Klare Kriterien für \"fertig.\"\n",
    "\n",
    "#### Zusammenhänge mit anderen Scrum-Events\n",
    "- **Sprint Review**: Feedback aus vorherigem Sprint beeinflusst das Planning.\n",
    "- **Daily Scrum**: Fortschritt und Planung werden täglich überprüft.\n",
    "- **Sprint Retrospective**: Erkenntnisse fließen ins nächste Planning ein.\n",
    "\n",
    "#### Fazit\n",
    "Das Sprint Planning legt den Grundstein für einen erfolgreichen Sprint: Es sorgt für Klarheit, eine realistische Planung und ein gemeinsames Verständnis im Team."
   ]
  },
  {
   "cell_type": "markdown",
   "metadata": {},
   "source": [
    "<details><summary>Nochmal zum Nachlesen...</summary>\n",
    "\n",
    "### Das Sprint Planning in Scrum: Ziel, Ablauf und Erfolgsfaktoren\n",
    "\n",
    "Das Sprint Planning ist eines der zentralen Elemente in Scrum. Es dient als Startpunkt für jeden Sprint und legt den Grundstein für den Erfolg der anstehenden Arbeit. Doch wie läuft ein Sprint Planning ab? Wer ist beteiligt? Und wie vermeidet man typische Fallstricke? Dieser Artikel bietet eine detaillierte Einführung in Zweck, Ablauf und Best Practices des Sprint Plannings.\n",
    "\n",
    "### Was ist der Zweck des Sprint Plannings?\n",
    "\n",
    "Das Ziel des Sprint Plannings ist es, den kommenden Sprint zu planen und sicherzustellen, dass das gesamte Team ein gemeinsames Verständnis darüber hat, **was** erreicht werden soll und **wie** es umgesetzt wird. Die wichtigsten Ziele im Überblick:\n",
    "\n",
    "1. **Sprint-Ziel definieren**: \n",
    "   - Das Team einigt sich auf ein klares Ziel, das während des Sprints erreicht werden soll. Dieses Ziel gibt Orientierung und Priorität.\n",
    "   \n",
    "2. **Backlog-Items auswählen**:\n",
    "   - Gemeinsam mit dem Product Owner wählt das Team die wichtigsten Anforderungen (User Stories, Bugs, technische Arbeiten) aus dem **Product Backlog** aus.\n",
    "   \n",
    "3. **Umsetzung planen**:\n",
    "   - Die Arbeit wird in kleinere, umsetzbare Aufgaben zerlegt, um die geplanten Backlog-Items realistisch zu bearbeiten.\n",
    "\n",
    "Darüber hinaus fördert das Sprint Planning Transparenz, Verteilung der Verantwortung und das Lernen im Team. Es schafft einen Raum für Diskussionen über technische Umsetzungen und potenzielle Herausforderungen.\n",
    "\n",
    "### Ablauf des Sprint Plannings\n",
    "\n",
    "Das Sprint Planning ist in zwei Phasen unterteilt:\n",
    "\n",
    "#### **1. Was soll im Sprint erreicht werden?**\n",
    "   - Der **Product Owner** präsentiert die priorisierten **Product Backlog Items (PBIs)**, die für den Sprint relevant sind.\n",
    "   - Das Team diskutiert die Anforderungen, klärt offene Fragen und definiert das **Sprint-Ziel**.\n",
    "   - Gemeinsam wählt das Team die Items aus, die es basierend auf seiner Kapazität und der Sprintdauer umsetzen kann.\n",
    "\n",
    "#### **2. Wie wird das Ziel erreicht?**\n",
    "   - Das **Development Team** bricht die ausgewählten Backlog-Items in konkrete Tasks herunter.\n",
    "   - Die Aufgaben werden geschätzt (z. B. in Stunden oder Story Points) und im Sprint Backlog organisiert.\n",
    "   - Das Team plant die technische Umsetzung und identifiziert Abhängigkeiten oder Risiken.\n",
    "\n",
    "### Wer nimmt am Sprint Planning teil?\n",
    "\n",
    "1. **Product Owner**:\n",
    "   - Bringt die priorisierten Anforderungen ein und sorgt dafür, dass das Team die geschäftlichen Ziele versteht.\n",
    "   - Klärt offene Fragen und definiert Akzeptanzkriterien.\n",
    "\n",
    "2. **Scrum Master**:\n",
    "   - Moderiert das Meeting und stellt sicher, dass der Prozess effizient und regelkonform abläuft.\n",
    "   - Hilft dem Team, Hindernisse zu erkennen und diese anzusprechen.\n",
    "\n",
    "3. **Development Team**:\n",
    "   - Die Entwickler, die die Arbeit umsetzen. Sie planen, wie die Aufgaben erledigt werden und schätzen den Aufwand.\n",
    "\n",
    "### Ergebnisse des Sprint Plannings\n",
    "\n",
    "Am Ende des Sprint Plannings sollte das Team folgende Ergebnisse haben:\n",
    "\n",
    "1. **Sprint Backlog**:\n",
    "   - Eine Liste von Backlog-Items, die im Sprint bearbeitet werden sollen, sowie deren aufgeschlüsselte Tasks.\n",
    "   \n",
    "2. **Sprint-Ziel**:\n",
    "   - Eine klare Aussage darüber, was am Ende des Sprints erreicht werden soll.\n",
    "\n",
    "3. **Klares Verständnis**:\n",
    "   - Das Team hat ein gemeinsames Verständnis über die Arbeit und deren Umsetzung.\n",
    "\n",
    "### Best Practices für ein erfolgreiches Sprint Planning\n",
    "\n",
    "Ein gut durchgeführtes Sprint Planning benötigt Vorbereitung und Struktur. Hier einige Best Practices:\n",
    "\n",
    "1. **Vorbereitung**:\n",
    "   - Der Product Owner sollte das Backlog gepflegt und priorisiert haben.\n",
    "   - Das Team sollte seine verfügbare Kapazität kennen (unter Berücksichtigung von Urlaub, Meetings etc.).\n",
    "\n",
    "2. **Definition of Ready (DoR)**:\n",
    "   - Nur Backlog-Items, die gut genug beschrieben und geschätzt sind, sollten in das Planning aufgenommen werden.\n",
    "\n",
    "3. **Fokus auf das Sprint-Ziel**:\n",
    "   - Vermeiden Sie, sich in Details zu verlieren. Das Ziel gibt dem Team eine Richtung.\n",
    "\n",
    "4. **Timeboxing einhalten**:\n",
    "   - Die Dauer des Plannings hängt von der Sprintlänge ab. Faustregel: Maximal 2 Stunden pro Sprint-Woche.\n",
    "\n",
    "### Herausforderungen und Fallstricke im Sprint Planning\n",
    "\n",
    "Das Sprint Planning kann herausfordernd sein, insbesondere wenn eines der folgenden Probleme auftritt:\n",
    "\n",
    "1. **Unklare Anforderungen**:\n",
    "   - Wenn Backlog-Items nicht ausreichend vorbereitet sind, kann das Planning ineffizient werden.\n",
    "\n",
    "2. **Überladung des Sprints**:\n",
    "   - Das Team nimmt sich zu viel vor, was zu unerfüllten Zielen führt. Eine realistische Planung auf Basis der **Velocity** ist entscheidend.\n",
    "\n",
    "3. **Fehlender Fokus**:\n",
    "   - Ohne ein klar definiertes Sprint-Ziel verliert das Team leicht den Überblick.\n",
    "\n",
    "4. **Externe Störungen**:\n",
    "   - Wenn neue Anforderungen während des Sprints auftauchen, wird die Planung schnell obsolet. Hier hilft eine klare Kommunikation mit dem Product Owner.\n",
    "\n",
    "### Techniken und Tools für das Sprint Planning\n",
    "\n",
    "1. **Planning Poker**:\n",
    "   - Eine Schätzmethode, bei der alle Teammitglieder den Aufwand bewerten. Sie fördert Diskussionen und reduziert subjektive Meinungen.\n",
    "\n",
    "2. **User Story Mapping**:\n",
    "   - Eine Technik, um Anforderungen nach Nutzerpfaden zu organisieren und Prioritäten zu erkennen.\n",
    "\n",
    "3. **Digitale Tools**:\n",
    "   - Tools wie Jira, Trello oder Azure DevOps helfen bei der Planung und Visualisierung des Sprint Backlogs.\n",
    "\n",
    "4. **Definition of Done (DoD)**:\n",
    "   - Klarheit darüber, wann eine Aufgabe als \"fertig\" gilt, ist essenziell.\n",
    "\n",
    "### Zusammenhang mit anderen Scrum-Events\n",
    "\n",
    "Das Sprint Planning ist eng mit anderen Scrum-Events verknüpft:\n",
    "\n",
    "1. **Sprint Review**:\n",
    "   - Feedback aus dem Review des vorherigen Sprints beeinflusst das Planning.\n",
    "   - Unerledigte Items können erneut priorisiert werden.\n",
    "\n",
    "2. **Daily Scrum**:\n",
    "   - Während des Daily Scrums überprüft das Team täglich, ob die Planung noch realistisch ist.\n",
    "\n",
    "3. **Sprint Retrospective**:\n",
    "   - Verbesserungen aus der Retrospektive (z. B. bessere Schätzungen) fließen in das Planning ein.\n",
    "\n",
    "### Fazit: Der Schlüssel zu einem erfolgreichen Sprint\n",
    "\n",
    "Das Sprint Planning ist weit mehr als ein formales Meeting. Es ist der Moment, in dem das Team die Grundlage für den gesamten Sprint legt. Ein gut organisiertes Planning sorgt für Klarheit, Zusammenarbeit und eine realistische Planung. Mit einer guten Vorbereitung, klaren Zielen und der richtigen Moderation wird das Sprint Planning zu einem mächtigen Werkzeug, um Sprints erfolgreich zu gestalten und die Produktivität des Teams zu steigern.\n",
    "</details>\n",
    "\n",
    "### Kleines Quiz"
   ]
  },
  {
   "cell_type": "code",
   "execution_count": 2,
   "metadata": {},
   "outputs": [
    {
     "data": {
      "text/markdown": [
       "## Quiz: Teste dein Wissen über Sprint Planning in Scrum"
      ],
      "text/plain": [
       "<IPython.core.display.Markdown object>"
      ]
     },
     "metadata": {},
     "output_type": "display_data"
    },
    {
     "data": {
      "application/vnd.jupyter.widget-view+json": {
       "model_id": "c6f3eb67f32d43e192dcdd91bb92f0bc",
       "version_major": 2,
       "version_minor": 0
      },
      "text/plain": [
       "Label(value='Frage 1: Was ist das Hauptziel des Sprint Plannings?')"
      ]
     },
     "metadata": {},
     "output_type": "display_data"
    },
    {
     "data": {
      "application/vnd.jupyter.widget-view+json": {
       "model_id": "33ae245a6ecb40f78dd5fc427f9ec78c",
       "version_major": 2,
       "version_minor": 0
      },
      "text/plain": [
       "RadioButtons(options=('Neue Teammitglieder einstellen', 'Das Sprint-Ziel definieren und Aufgaben planen', 'Ver…"
      ]
     },
     "metadata": {},
     "output_type": "display_data"
    },
    {
     "data": {
      "application/vnd.jupyter.widget-view+json": {
       "model_id": "c75b3aaa40674f5b9db84ab51bcc46b5",
       "version_major": 2,
       "version_minor": 0
      },
      "text/plain": [
       "Label(value='Frage 2: Welche Rolle bringt die priorisierten Backlog-Items ins Sprint Planning?')"
      ]
     },
     "metadata": {},
     "output_type": "display_data"
    },
    {
     "data": {
      "application/vnd.jupyter.widget-view+json": {
       "model_id": "2070db734705467d8635c6119dc377c9",
       "version_major": 2,
       "version_minor": 0
      },
      "text/plain": [
       "RadioButtons(options=('Scrum Master', 'Product Owner', 'Development Team'), value='Scrum Master')"
      ]
     },
     "metadata": {},
     "output_type": "display_data"
    },
    {
     "data": {
      "application/vnd.jupyter.widget-view+json": {
       "model_id": "8871901440ac4586a19ed8cf93ddfd84",
       "version_major": 2,
       "version_minor": 0
      },
      "text/plain": [
       "Label(value='Frage 3: Wie lange sollte ein Sprint Planning für einen zweiwöchigen Sprint maximal dauern?')"
      ]
     },
     "metadata": {},
     "output_type": "display_data"
    },
    {
     "data": {
      "application/vnd.jupyter.widget-view+json": {
       "model_id": "317dd7f8c5de44e992c088597d7a42db",
       "version_major": 2,
       "version_minor": 0
      },
      "text/plain": [
       "RadioButtons(options=('2 Stunden', '4 Stunden', '8 Stunden'), value='2 Stunden')"
      ]
     },
     "metadata": {},
     "output_type": "display_data"
    },
    {
     "data": {
      "application/vnd.jupyter.widget-view+json": {
       "model_id": "3ba23142b48e4f7bbc916ac6804babce",
       "version_major": 2,
       "version_minor": 0
      },
      "text/plain": [
       "Label(value='Frage 4: Welche dieser Aussagen ist korrekt?')"
      ]
     },
     "metadata": {},
     "output_type": "display_data"
    },
    {
     "data": {
      "application/vnd.jupyter.widget-view+json": {
       "model_id": "4a4821b5b4ad4607b66342b8ec309fad",
       "version_major": 2,
       "version_minor": 0
      },
      "text/plain": [
       "RadioButtons(options=('Das Development Team plant, welche Aufgaben es übernimmt.', 'Der Product Owner weist de…"
      ]
     },
     "metadata": {},
     "output_type": "display_data"
    },
    {
     "data": {
      "application/vnd.jupyter.widget-view+json": {
       "model_id": "b95d5e835acd465b83f9c3d2e5e2488f",
       "version_major": 2,
       "version_minor": 0
      },
      "text/plain": [
       "Label(value='Frage 5: Was ist das Ergebnis eines erfolgreichen Sprint Plannings?')"
      ]
     },
     "metadata": {},
     "output_type": "display_data"
    },
    {
     "data": {
      "application/vnd.jupyter.widget-view+json": {
       "model_id": "bdfdb291ff0449a0b72e0aa140ed046c",
       "version_major": 2,
       "version_minor": 0
      },
      "text/plain": [
       "RadioButtons(options=('Sprint Backlog und Sprint-Ziel', 'Ein fertiges Produkt', 'Eine Liste mit offenen Fragen…"
      ]
     },
     "metadata": {},
     "output_type": "display_data"
    },
    {
     "data": {
      "application/vnd.jupyter.widget-view+json": {
       "model_id": "39bd06282b734d7e9c4e9864a26a2c3a",
       "version_major": 2,
       "version_minor": 0
      },
      "text/plain": [
       "Button(description='Quiz auswerten', style=ButtonStyle())"
      ]
     },
     "metadata": {},
     "output_type": "display_data"
    },
    {
     "data": {
      "application/vnd.jupyter.widget-view+json": {
       "model_id": "aaf77d9e047d4d24909b15adbaf47e10",
       "version_major": 2,
       "version_minor": 0
      },
      "text/plain": [
       "Output()"
      ]
     },
     "metadata": {},
     "output_type": "display_data"
    }
   ],
   "source": [
    "import ipywidgets as widgets\n",
    "from IPython.display import display, Markdown\n",
    "\n",
    "# Fragen und Antworten\n",
    "quiz = [\n",
    "    {\n",
    "        \"question\": \"Was ist das Hauptziel des Sprint Plannings?\",\n",
    "        \"options\": [\n",
    "            \"Neue Teammitglieder einstellen\",\n",
    "            \"Das Sprint-Ziel definieren und Aufgaben planen\",\n",
    "            \"Vergangene Sprints analysieren\"\n",
    "        ],\n",
    "        \"answer\": 1  # Index der richtigen Antwort\n",
    "    },\n",
    "    {\n",
    "        \"question\": \"Welche Rolle bringt die priorisierten Backlog-Items ins Sprint Planning?\",\n",
    "        \"options\": [\n",
    "            \"Scrum Master\",\n",
    "            \"Product Owner\",\n",
    "            \"Development Team\"\n",
    "        ],\n",
    "        \"answer\": 1\n",
    "    },\n",
    "    {\n",
    "        \"question\": \"Wie lange sollte ein Sprint Planning für einen zweiwöchigen Sprint maximal dauern?\",\n",
    "        \"options\": [\n",
    "            \"2 Stunden\",\n",
    "            \"4 Stunden\",\n",
    "            \"8 Stunden\"\n",
    "        ],\n",
    "        \"answer\": 1\n",
    "    },\n",
    "    {\n",
    "        \"question\": \"Welche dieser Aussagen ist korrekt?\",\n",
    "        \"options\": [\n",
    "            \"Das Development Team plant, welche Aufgaben es übernimmt.\",\n",
    "            \"Der Product Owner weist dem Team Aufgaben zu.\",\n",
    "            \"Das Sprint Planning dient nur der Diskussion technischer Details.\"\n",
    "        ],\n",
    "        \"answer\": 0\n",
    "    },\n",
    "    {\n",
    "        \"question\": \"Was ist das Ergebnis eines erfolgreichen Sprint Plannings?\",\n",
    "        \"options\": [\n",
    "            \"Sprint Backlog und Sprint-Ziel\",\n",
    "            \"Ein fertiges Produkt\",\n",
    "            \"Eine Liste mit offenen Fragen\"\n",
    "        ],\n",
    "        \"answer\": 0\n",
    "    },\n",
    "]\n",
    "\n",
    "# Funktion zur Auswertung\n",
    "def evaluate_quiz(answers):\n",
    "    score = 0\n",
    "    for i, answer in enumerate(answers):\n",
    "        if answer == quiz[i][\"answer\"]:\n",
    "            score += 1\n",
    "    return score\n",
    "\n",
    "# Widgets erstellen\n",
    "questions_widgets = []\n",
    "answers = []\n",
    "\n",
    "for i, q in enumerate(quiz):\n",
    "    question_label = widgets.Label(f\"Frage {i + 1}: {q['question']}\")\n",
    "    options = widgets.RadioButtons(\n",
    "        options=q[\"options\"],\n",
    "        description=\"\",\n",
    "        disabled=False\n",
    "    )\n",
    "    questions_widgets.append((question_label, options))\n",
    "    answers.append(options)\n",
    "\n",
    "submit_button = widgets.Button(description=\"Quiz auswerten\")\n",
    "output = widgets.Output()\n",
    "\n",
    "# Auswertungsfunktion\n",
    "def on_submit_clicked(b):\n",
    "    with output:\n",
    "        output.clear_output()\n",
    "        user_answers = [opt.options.index(opt.value) if opt.value else -1 for _, opt in questions_widgets]\n",
    "        score = evaluate_quiz(user_answers)\n",
    "        total_questions = len(quiz)\n",
    "        display(Markdown(f\"### Du hast {score} von {total_questions} Fragen richtig beantwortet.\"))\n",
    "        if score == total_questions:\n",
    "            display(Markdown(\"🎉 **Perfekt! Du bist ein Sprint Planning-Profi!**\"))\n",
    "        elif score >= total_questions // 2:\n",
    "            display(Markdown(\"👍 **Gute Arbeit! Es gibt noch etwas zu verbessern.**\"))\n",
    "        else:\n",
    "            display(Markdown(\"👎 **Das war wohl nichts. Lies dir die Theorie noch einmal durch!**\"))\n",
    "\n",
    "submit_button.on_click(on_submit_clicked)\n",
    "\n",
    "# Anzeigen\n",
    "display(Markdown(\"## Quiz: Teste dein Wissen über Sprint Planning in Scrum\"))\n",
    "for question_label, options in questions_widgets:\n",
    "    display(question_label, options)\n",
    "display(submit_button, output)"
   ]
  }
 ],
 "metadata": {
  "kernelspec": {
   "display_name": "Python 3",
   "language": "python",
   "name": "python3"
  },
  "language_info": {
   "codemirror_mode": {
    "name": "ipython",
    "version": 3
   },
   "file_extension": ".py",
   "mimetype": "text/x-python",
   "name": "python",
   "nbconvert_exporter": "python",
   "pygments_lexer": "ipython3",
   "version": "3.9.13"
  }
 },
 "nbformat": 4,
 "nbformat_minor": 2
}
