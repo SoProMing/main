{
 "cells": [
  {
   "cell_type": "markdown",
   "metadata": {},
   "source": [
    "[Software Product Mastering](../abstract/Contents.de.ipynb) / [Produkt & Projekt](../../theory/Project_Products.de.ipynb) / [Methoden](../../methods_n_tools/Methods.de.ipynb) / [Deliberating structures](Deliberating_Structures.de.ipynb) / [Werkzeuge & Automatisierung](Tools_Automation.de.ipynb) / [Architecture & Techstack](../methods_n_tools/Techstack_Architecture.de.ipynb)\n",
    "\n",
    "# eShopOnWeb sample\n",
    "\n",
    "<table border=\"0\">\n",
    "  <tr>\n",
    "    <td>\n",
    "        <img src=\"../methods_n_tools/Techstack_Architecture.webp\">\n",
    "    </td>\n",
    "    <td rowspan=\"2\">\n",
    "        <a href=\"https://miro.com/app/board/uXjVLKHGo6E=/?moveToWidget=3458764605541796363&cot=14\"><img src=\"../methods_n_tools/Radar_Techstack.de.jpg\"></a>\n",
    "    </td>\n",
    "  </tr>\n",
    "  <tr>\n",
    "    <td>\n",
    "        <a href=\"https://www.gnu.org/software/make/manual/make.html\" target=\"_blank\">GNU Make Manual</a><br>\n",
    "        <a href=\"https://opensource.com/article/18/8/what-how-makefile\" target=\"_blank\">What is a Makefile?</a><br>\n",
    "        <a href=\"https://makefiletutorial.com/\" target=\"_blank\">Makefile Tutorial</a><br>\n",
    "        <a href=\"https://docs.docker.com/\" target=\"_blank\">Docker Documentation</a><br>\n",
    "        <a href=\"https://www.w3schools.com/html/\" target=\"_blank\">HTML Tutorial (W3Schools)</a><br>\n",
    "        <a href=\"https://getbootstrap.com/\" target=\"_blank\">Bootstrap Documentation</a><br>\n",
    "        <a href=\"https://developer.mozilla.org/en-US/docs/Web/HTML\" target=\"_blank\">MDN Web Docs: HTML</a><br>\n",
    "        <a href=\"https://docker-curriculum.com/\" target=\"_blank\">Docker Curriculum</a><br>\n",
    "        <a href=\"https://stackify.com/makefile/\" target=\"_blank\">Makefile Examples and Best Practices</a><br>\n",
    "        <a href=\"https://www.digitalocean.com/community/tutorials/how-to-use-makefiles\" target=\"_blank\">How to Use Makefiles (DigitalOcean)</a>\n",
    "    </td>\n",
    "  </tr>\n",
    "</table>\n",
    "\n",
    "Das Projekt eShopOnWeb ist eine Beispiel-Webanwendung, die als Referenz für die Entwicklung von E-Commerce-Anwendungen dient. Es nutzt .NET Core und demonstriert eine einfache Architektur mit verschiedenen modernen Webtechnologien. Die Anwendung enthält typische Funktionalitäten wie Produktauswahl, Einkaufswagen und Bestellmanagement und eignet sich hervorragend, um mehr über den Aufbau von Webanwendungen und die Nutzung von DevOps-Technologien wie Docker und Devcontainers zu lernen.\n",
    "\n",
    "In diesem Notebook werden wir Schritt für Schritt erklären, wie man das eShopOnWeb-Projekt:\n",
    "* 1. Klonen\n",
    "* 2. Lokal ausführen\n",
    "* 3. Im Devcontainer starten\n",
    "* 4. In Docker ausführen kann.\n",
    "* 5. Auf Azure ausrollen kann.\n",
    "\n",
    "Hier ist eine ausführliche Beschreibung der Schritte, wie du das eShopOnWeb-Projekt lokal, im Devcontainer, in Docker und auf Azure ausrollen kannst:\n",
    "\n",
    "### 1. **Repository Klonen**\n",
    "\n",
    "Zunächst musst du das eShopOnWeb-Repository von GitHub auf deinen lokalen Rechner klonen. Dies geht einfach über den Git-Befehl:"
   ]
  },
  {
   "cell_type": "code",
   "execution_count": null,
   "metadata": {
    "vscode": {
     "languageId": "shellscript"
    }
   },
   "outputs": [],
   "source": [
    "!git clone https://github.com/NimblePros/eShopOnWeb.git"
   ]
  },
  {
   "cell_type": "markdown",
   "metadata": {},
   "source": [
    "Dieser Schritt holt das Projekt in deinen lokalen Ordner.\n",
    "\n",
    "### 2. **Lokales Starten des Projekts**\n",
    "\n",
    "Um das Projekt lokal auszuführen, musst du sicherstellen, dass du das .NET SDK installiert hast. Falls du es noch nicht hast, kannst du es von der offiziellen .NET-Website herunterladen:  \n",
    "[Download .NET SDK](https://dotnet.microsoft.com/download/dotnet).\n",
    "\n",
    "#### 2.1. (optional) Änderungen für VSCode auf MacOS\n",
    "\n",
    "<details><summary>Zum Nachlesen bitte aufklappen...</summary>\n",
    "\n",
    "\n",
    "Um den beschriebenen DIFF in deinem Projekt manuell umzusetzen, solltest du folgende Schritte durchführen:\n",
    "\n",
    "### 1. **Änderungen an der `docker-compose.yml`**:\n",
    "   - **Füge das `^M`-Zeichen nach bestimmten Zeilen hinzu** (dies könnte ein Zeilenumbruchproblem sein, das du eventuell in einem bestimmten Editor siehst). Beachte, dass dieses Zeichen auf Windows-basierten Systemen auftreten kann.\n",
    "   - Ändere die `SA_PASSWORD` Umgebungsvariable:\n",
    "     - Ändere `SA_PASSWORD=@someThingComplicated1234` zu `MSSQL_SA_PASSWORD=Some$Complex1234Password`.\n",
    "   \n",
    "   Beispieländerung:\n",
    "   ```yaml\n",
    "   services:\n",
    "     sqlserver:\n",
    "       image: mcr.microsoft.com/azure-sql-edge\n",
    "       ports:\n",
    "         - \"1433:1433\"\n",
    "       environment:\n",
    "         - MSSQL_SA_PASSWORD=Some$Complex1234Password\n",
    "         - ACCEPT_EULA=Y\n",
    "   ```\n",
    "\n",
    "### 2. **Änderungen an der `src/PublicApi/Dockerfile`**:\n",
    "   - Ändere die Basis- und Build-Image-Version von .NET 8.0 auf .NET 9.0. Ändere die Zeilen:\n",
    "     - `FROM mcr.microsoft.com/dotnet/aspnet:8.0 AS base` zu `FROM mcr.microsoft.com/dotnet/aspnet:9.0 AS base`\n",
    "     - `FROM mcr.microsoft.com/dotnet/sdk:8.0 AS build` zu `FROM mcr.microsoft.com/dotnet/sdk:9.0 AS build`\n",
    "   \n",
    "   Beispieländerung:\n",
    "   ```Dockerfile\n",
    "   FROM mcr.microsoft.com/dotnet/aspnet:9.0 AS base\n",
    "   FROM mcr.microsoft.com/dotnet/sdk:9.0 AS build\n",
    "   ```\n",
    "\n",
    "### 3. **Änderungen an der `src/Web/Dockerfile`**:\n",
    "   - Ändere ebenfalls die .NET-Versionen in der `Dockerfile` von Version 8.0 auf 9.0:\n",
    "     - `FROM mcr.microsoft.com/dotnet/sdk:8.0 AS build` zu `FROM mcr.microsoft.com/dotnet/sdk:9.0 AS build`\n",
    "     - `FROM mcr.microsoft.com/dotnet/aspnet:8.0 AS runtime` zu `FROM mcr.microsoft.com/dotnet/aspnet:9.0 AS runtime`\n",
    "   \n",
    "   Beispieländerung:\n",
    "   ```Dockerfile\n",
    "   FROM mcr.microsoft.com/dotnet/sdk:9.0 AS build\n",
    "   FROM mcr.microsoft.com/dotnet/aspnet:9.0 AS runtime\n",
    "   ```\n",
    "\n",
    "### 4. **Änderungen an der `src/Web/appsettings.json`**:\n",
    "   - Füge einen neuen Abschnitt für die `UseOnlyInMemoryDatabase` Konfiguration hinzu:\n",
    "   \n",
    "   Beispieländerung:\n",
    "   ```json\n",
    "   {\n",
    "     \"ConnectionStrings\": {\n",
    "       \"DefaultConnection\": \"...\"\n",
    "     },\n",
    "     \"Logging\": {\n",
    "       \"LogLevel\": {\n",
    "         \"Default\": \"Information\",\n",
    "         \"System\": \"Warning\"\n",
    "       }\n",
    "     },\n",
    "     \"AllowedHosts\": \"*\",\n",
    "     \"UseOnlyInMemoryDatabase\": true\n",
    "   }\n",
    "   ```\n",
    "\n",
    "### Zusammenfassung:\n",
    "- Aktualisiere die `.NET`-Version in den Dockerfiles auf `9.0` statt `8.0`.\n",
    "- Ändere die Umgebungsvariable für das SQL-Server-Passwort in der `docker-compose.yml`.\n",
    "- Füge eine neue Konfiguration `UseOnlyInMemoryDatabase` in der `appsettings.json` hinzu.\n",
    "\n",
    "Das sind die manuellen Änderungen, die du vornehmen musst, um den gewünschten DIFF zu erreichen.\n",
    "</details>\n",
    "\n",
    "#### 2.2. Abhängigkeiten wiederherstellen\n",
    "\n",
    "Nach dem Klonen des Projekts musst du zunächst alle Abhängigkeiten wiederherstellen:"
   ]
  },
  {
   "cell_type": "code",
   "execution_count": null,
   "metadata": {
    "vscode": {
     "languageId": "shellscript"
    }
   },
   "outputs": [],
   "source": [
    "!dotnet restore eShopOnWeb/eShopOnWeb.sln > /dev/null"
   ]
  },
  {
   "cell_type": "markdown",
   "metadata": {},
   "source": [
    "Dieser Befehl lädt alle notwendigen NuGet-Pakete herunter, die das Projekt benötigt.\n",
    "\n",
    "#### 2.3. Projekt bauen\n",
    "\n",
    "Nun kannst du das Projekt bauen, um sicherzustellen, dass keine Fehler vorhanden sind:"
   ]
  },
  {
   "cell_type": "code",
   "execution_count": null,
   "metadata": {
    "vscode": {
     "languageId": "shellscript"
    }
   },
   "outputs": [],
   "source": [
    "!dotnet build eShopOnWeb/eShopOnWeb.sln > /dev/null"
   ]
  },
  {
   "cell_type": "markdown",
   "metadata": {},
   "source": [
    "#### 2.4. Projekt ausführen\n",
    "\n",
    "Auf einem Windows basierten System kannst du das Projekt nun lokal starten:\n",
    "\n",
    "##### 1. Starte das Backend:"
   ]
  },
  {
   "cell_type": "markdown",
   "metadata": {
    "vscode": {
     "languageId": "shellscript"
    }
   },
   "source": [
    "Öffne einen Terminal und führe folgende Befehle aus:\n",
    "\n",
    "```bash\n",
    "cd notebooks/samples\n",
    "dotnet run --project eShopOnWeb/src/PublicApi\n",
    "```"
   ]
  },
  {
   "cell_type": "markdown",
   "metadata": {},
   "source": [
    "Die API sollte nun unter `http://localhost:5099/api` im Browser erreichbar sein.\n",
    "\n",
    "##### 2. Starte nun das Frontend:"
   ]
  },
  {
   "cell_type": "markdown",
   "metadata": {
    "vscode": {
     "languageId": "shellscript"
    }
   },
   "source": [
    "Öffne einen weiteren Terminal und führe folgende Befehle aus:\n",
    "\n",
    "```bash\n",
    "cd notebooks/samples\n",
    "dotnet run --project eShopOnWeb/src/Web\n",
    "```"
   ]
  },
  {
   "cell_type": "markdown",
   "metadata": {},
   "source": [
    "Das Projekt sollte nun unter `http://localhost:5001` im Browser verfügbar sein.\n",
    "\n",
    "### 3. **Devcontainer Starten**\n",
    "\n",
    "Ein Devcontainer ist eine Docker-basierte Entwicklungsumgebung, die in Visual Studio Code (VSCode) verwendet werden kann. Um das Projekt in einem Devcontainer zu starten, folge diesen Schritten:\n",
    "\n",
    "#### 3.1. VSCode Devcontainer Erweiterung installieren\n",
    "\n",
    "Stelle sicher, dass du die **Dev Containers**-Erweiterung in VSCode installiert hast. Dies ermöglicht es dir, das Projekt direkt im Container zu entwickeln.\n",
    "\n",
    "#### 3.2. Projekt im Devcontainer öffnen\n",
    "\n",
    "- Öffne das geklonte `eShopOnWeb`-Projekt in VSCode.\n",
    "- Wähle in VSCode die Option **Reopen in Container**, um das Projekt im Devcontainer zu starten. \n",
    "\n",
    "VSCode baut dann den Container und stellt sicher, dass die Entwicklungsumgebung genau der entspricht, die im Projekt konfiguriert ist. Der Devcontainer enthält alle benötigten Tools und Abhängigkeiten.\n",
    "\n",
    "### 4. **Docker Starten**\n",
    "\n",
    "Falls du das Projekt in einem Docker-Container ausführen möchtest, kannst du dies tun, indem du ein Docker-Image erstellst und es im Container ausführst.\n",
    "\n",
    "#### 4.1. Docker installieren\n",
    "\n",
    "Wenn Docker noch nicht auf deinem Computer installiert ist, kannst du es von der offiziellen Website herunterladen:  \n",
    "[Download Docker](https://www.docker.com/get-started).\n",
    "\n",
    "#### 4.2. Docker-Image bauen\n",
    "\n",
    "Im Projektordner kannst du mit folgendem Befehl ein Docker-Image erstellen:"
   ]
  },
  {
   "cell_type": "code",
   "execution_count": null,
   "metadata": {
    "vscode": {
     "languageId": "shellscript"
    }
   },
   "outputs": [],
   "source": [
    "!docker compose -f ./eShopOnWeb/docker-compose.yml build > /dev/null"
   ]
  },
  {
   "cell_type": "markdown",
   "metadata": {},
   "source": [
    "#### 4.3. Docker-Container starten\n",
    "\n",
    "Sobald das Image gebaut ist, kannst du den Container starten:"
   ]
  },
  {
   "cell_type": "code",
   "execution_count": null,
   "metadata": {
    "vscode": {
     "languageId": "shellscript"
    }
   },
   "outputs": [],
   "source": [
    "!docker compose -f ./eShopOnWeb/docker-compose.yml up > /dev/null"
   ]
  },
  {
   "cell_type": "markdown",
   "metadata": {},
   "source": [
    "Dies startet das Projekt im Docker-Container, und du kannst die Anwendung unter `localhost:5106` for das Frontend und unter `localhost:5200` im Browser erreichen.\n",
    "\n",
    "### 5. **Projekt auf Azure ausrollen**\n",
    "\n",
    "Für das Deployment auf Azure benötigst du ein Azure-Konto und die **Azure CLI**. Falls du sie noch nicht installiert hast, folge diesen Anweisungen:  \n",
    "[Installiere Azure CLI](https://learn.microsoft.com/en-us/cli/azure/install-azure-cli).\n",
    "\n",
    "#### 5.1. Voraussetzungen\n",
    "\n",
    "- Ein Azure-Konto: [Azure Kostenloses Konto](https://azure.microsoft.com/free)\n",
    "- Azure CLI installiert: [Azure CLI Installieren](https://learn.microsoft.com/en-us/cli/azure/install-azure-cli)\n",
    "- Docker (wenn du Docker für das Deployment verwenden möchtest).\n",
    "- Ein App Service Plan auf Azure (für das Hosting der Webanwendung).\n",
    "- (Optional) Eine registrierte Anwendung in Azure Active Directory, falls du Authentifizierung benötigst.\n",
    "\n",
    "#### 5.2. Projekt für das Azure-Deployment vorbereiten\n",
    "\n",
    "Bevor du das Projekt auf Azure ausrollst, solltest du sicherstellen, dass alle Umgebungsvariablen wie Datenbank-Verbindungszeichenfolgen und geheime Werte korrekt gesetzt sind. Du solltest diese nicht im Code speichern, sondern über **App Settings** in Azure verwalten.\n",
    "\n",
    "#### 5.3. Azure Deployment mit Azure CLI\n",
    "\n",
    "Nun kannst du das Projekt mit Azure CLI auf Azure bereitstellen. Folge diesen Schritten (diese sind aktuell ungestestet):\n",
    "\n",
    "##### 5.3.1. Anmelden bei Azure\n",
    "\n",
    "Melde dich bei deinem Azure-Konto an:\n",
    "\n",
    "```bash\n",
    "az login\n",
    "```\n",
    "\n",
    "##### 5.3.2. Erstellen einer Ressourcengruppe\n",
    "\n",
    "Erstelle eine neue Ressourcengruppe, die alle Ressourcen für das Projekt enthält:\n",
    "\n",
    "```bash\n",
    "az group create --name eShopOnWebResourceGroup --location \"East US\"\n",
    "```\n",
    "\n",
    "##### 5.3.3. Erstellen des App Service Plans\n",
    "\n",
    "Der App Service Plan definiert die Infrastruktur, auf der deine Web-App laufen wird. Erstelle ihn mit:\n",
    "\n",
    "```bash\n",
    "az appservice plan create --name eShopOnWebPlan --resource-group eShopOnWebResourceGroup --sku B1 --is-linux\n",
    "```\n",
    "\n",
    "##### 5.3.4. Erstellen der Web-App\n",
    "\n",
    "Erstelle eine neue Web-App, die deine Anwendung hosten wird. Hier kannst du die Laufzeit angeben (z. B. .NET 6):\n",
    "\n",
    "```bash\n",
    "az webapp create --resource-group eShopOnWebResourceGroup --plan eShopOnWebPlan --name eShopOnWebApp --runtime \"DOTNET|6.0\"\n",
    "```\n",
    "\n",
    "##### 5.3.5. Docker-Deployment (Optional)\n",
    "\n",
    "Wenn du Docker verwendest, kannst du das Docker-Image auf Azure Web App for Containers hochladen:\n",
    "\n",
    "```bash\n",
    "az webapp config container set --name eShopOnWebApp --resource-group eShopOnWebResourceGroup --docker-custom-image-name eshoponweb\n",
    "```\n",
    "\n",
    "##### 5.3.6. Git-Deployment (Für lokale .NET-Anwendung)\n",
    "\n",
    "Falls du kein Docker verwendest, kannst du das Projekt auch direkt mit Git auf Azure deployen:\n",
    "\n",
    "```bash\n",
    "az webapp deployment source config-local-git --name eShopOnWebApp --resource-group eShopOnWebResourceGroup\n",
    "```\n",
    "\n",
    "#### 5.4. Überprüfung der Bereitstellung\n",
    "\n",
    "Nach erfolgreichem Deployment kannst du die Anwendung über die folgende URL aufrufen:\n",
    "\n",
    "```text\n",
    "https://<dein-app-name>.azurewebsites.net\n",
    "```\n",
    "\n",
    "### 6. **Fehlerbehebung und mögliche Probleme**\n",
    "\n",
    "- **Bauen des Projekts**: Wenn beim Bauen des Projekts Fehler auftreten, überprüfe, ob alle Abhängigkeiten korrekt installiert sind und ob du das richtige .NET SDK verwendest.\n",
    "- **Docker**: Wenn Docker nicht funktioniert, überprüfe, ob Docker korrekt installiert und der Docker-Daemon läuft.\n",
    "- **Azure Deployment**: Wenn das Azure Deployment fehlschlägt, stelle sicher, dass du alle Ressourcen korrekt erstellt hast und die Umgebungsvariablen für die Web-App richtig konfiguriert sind. Prüfe auch, ob du die richtige Runtime und Region für deinen App Service Plan ausgewählt hast.\n",
    "\n",
    "Mit diesen Schritten solltest du in der Lage sein, das eShopOnWeb-Projekt lokal, im Devcontainer, in Docker und auf Azure auszurollen."
   ]
  }
 ],
 "metadata": {
  "kernelspec": {
   "display_name": "Python 3",
   "language": "python",
   "name": "python3"
  },
  "language_info": {
   "codemirror_mode": {
    "name": "ipython",
    "version": 3
   },
   "file_extension": ".py",
   "mimetype": "text/x-python",
   "name": "python",
   "nbconvert_exporter": "python",
   "pygments_lexer": "ipython3",
   "version": "3.9.13"
  }
 },
 "nbformat": 4,
 "nbformat_minor": 2
}
