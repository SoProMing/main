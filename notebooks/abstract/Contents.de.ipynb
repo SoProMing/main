{
 "cells": [
  {
   "cell_type": "markdown",
   "metadata": {},
   "source": [
    "# Software Product Mastering\n",
    "\n",
    "<img src=\"Software_Product_Mastering.webp\" style=\"width:280px; height:280px;\">"
   ]
  },
  {
   "cell_type": "markdown",
   "metadata": {},
   "source": [
    "## Einführung\n",
    "\n",
    "Willkommen zu einem umfassenden Leitfaden zur Beherrschung von Software-Produkten! Dieses Dokument dient als wertvolle Ressource für alle, die sich mit der Entwicklung, Implementierung und Verwaltung moderner Softwarelösungen beschäftigen. Von grundlegenden Konzepten über Best Practices bis hin zu fortgeschrittenen Strategien bietet es eine klare und strukturierte Herangehensweise, um die Herausforderungen der Software-Entwicklung zu meistern.\n",
    "\n",
    "Es lädt Dich dazu ein, tief in die Welt der Software-Produkte einzutauchen und gleichzeitig praktische Tipps und Einblicke zu gewinnen, die Dir helfen, Deine Projekte effizient und erfolgreich umzusetzen."
   ]
  },
  {
   "cell_type": "markdown",
   "metadata": {},
   "source": [
    "## Und wie geht das?\n",
    "\n",
    "Dieses Dokument ist dein Begleiter, um Software-Produkte besser zu verstehen und zu meistern. Es bietet dir eine klare Struktur, hilfreiche Beispiele und praktische Tipps, die dir helfen, dein Wissen gezielt anzuwenden. \n",
    "\n",
    "Du kannst es auf verschiedene Arten nutzen: \n",
    "\n",
    "1. **Zum Lernen:** Lies es von Anfang bis Ende, wenn du ein grundlegendes Verständnis aufbauen möchtest. Die Inhalte sind so gestaltet, dass du Schritt für Schritt in komplexere Themen eingeführt wirst.\n",
    "   \n",
    "2. **Als Nachschlagewerk:** Wenn du bereits Erfahrung hast, kannst du gezielt nach Themen suchen, die dich interessieren oder die du vertiefen möchtest. Nutze das Inhaltsverzeichnis oder die Suchfunktion, um schnell die relevanten Abschnitte zu finden.\n",
    "\n",
    "3. **Für praktische Anwendung:** Viele Abschnitte enthalten Beispiele, die du direkt ausprobieren kannst. Übertrage sie in deine Entwicklungsumgebung, spiele damit herum und passe sie an deine Projekte an.\n",
    "\n",
    "Egal, ob du Anfänger bist oder schon fortgeschrittene Kenntnisse hast – dieses Dokument gibt dir die Werkzeuge an die Hand, um dein Wissen zu erweitern und in der Praxis anzuwenden. \n",
    "\n",
    "Viel Erfolg und Spaß beim Entdecken und Anwenden der Inhalte! 🚀"
   ]
  },
  {
   "cell_type": "markdown",
   "metadata": {},
   "source": [
    "## Inhaltsverzeichnis\n",
    "\n",
    "* [Eisbrecher](../methods_n_tools/Icebreaker_kickoff.de.ipynb)\n",
    "\n",
    "### Theorie\n",
    "\n",
    "* [Software, das unsichtbare Biest](../theory/Software_the_invisable_beast.de.ipynb)\n",
    "* [Das \"Was\" und das \"Wie\"](../theory/What_and_How.de.ipynb)\n",
    "* [Stacey Matrix](../theory/Stacey_Matrix.de.ipynb)\n",
    "* [Cynefin-Modell](../theory/Cynefin_model.de.ipynb)\n",
    "* [Software-Komplexität im Laufe der Jahre](../theory/Complexity_over_the_years.de.ipynb)\n",
    "* [Conways Gesetz](../theory/Conways_law.de.ipynb)\n",
    "* [Alles im Zusammenhang](../theory/Conclusion.de.ipynb)\n",
    "* [Projekte & Produkte](../theory/Project_Products.de.ipynb)\n",
    "\n",
    "### Kultur\n",
    "\n",
    "* [Die fünf agilen Werte](../culture/Agile_Values.de.ipynb)\n",
    "* [Fehlerkultur](../culture/Error_Culture.de.ipynb)\n",
    "* [Management Stile](../culture/Management_styles.de.ipynb)\n",
    "* [Rollen](../culture/Roles.de.ipynb)\n",
    "  * [Devteam](../culture/Roles/Devteam.de.ipynb)\n",
    "  * [Product Owner](../culture/Roles/Product_Owner.de.ipynb)\n",
    "  * [Scrum Master](../culture/Roles/Scrum_Master.de.ipynb)\n",
    "\n",
    "### Methoden & Werkzeuge\n",
    "\n",
    "* [Systemischer Ansatz](../methods_n_tools/Systemic_Approach.de.ipynb)\n",
    "* [Methoden Übersicht](../methods_n_tools/Methods.de.ipynb)\n",
    "  * [Scrum](../methods_n_tools/Methods/Scrum.de.ipynb)\n",
    "    * [Refinement](../methods_n_tools/deliberating_structures/Refinement.de.ipynb)\n",
    "    * [Planning](../methods_n_tools/deliberating_structures/Planning.de.ipynb)\n",
    "    * [(Cross Team Daily)](../methods_n_tools/deliberating_structures/Crossteam_daily.de.ipynb)\n",
    "    * [Scrum daily](../methods_n_tools/deliberating_structures/Daily_standup.de.ipynb)\n",
    "    * [Review](../methods_n_tools/deliberating_structures/Review.de.ipynb)\n",
    "    * [Retrospective](../methods_n_tools/deliberating_structures/Retrospective.de.ipynb)\n",
    "* [Arbeitselemente & Konzepte Übersicht](../methods_n_tools/Workitems_Concepts.de.ipynb)\n",
    "* [Deliberating structures & practices Übersicht](../methods_n_tools/Deliberating_Structures.de.ipynb)\n",
    "  * [Paperplane Game](../methods_n_tools/deliberating_structures/Paperplane_game.de.ipynb)\n",
    "* [Werkzeuge & Automatisierung Übersicht](../methods_n_tools/Tools_Automation.de.ipynb)\n",
    "  * [CI/CD mit Gitlab](../methods_n_tools/CICD_gitlab.de.ipynb)\n",
    "* [Architektur & Techstacks Übersicht](../methods_n_tools/Techstack_Architecture.de.ipynb)\n",
    "  * [Sample: eShopOnWeb (.NET Stack)](../samples/eShopOnWeb.de.ipynb)\n"
   ]
  },
  {
   "cell_type": "markdown",
   "metadata": {},
   "source": [
    "## [Roter Faden durch die Themen](https://miro.com/app/board/uXjVLKHGo6E=/?moveToWidget=3458764605541796363&cot=14) →\n",
    "\n",
    "<iframe width=\"768\" height=\"768\" src=\"https://miro.com/app/live-embed/uXjVLKHGo6E=/?moveToViewport=-18071,-3983,16942,15672&embedId=457034313853\" frameborder=\"0\" scrolling=\"no\" allow=\"fullscreen; clipboard-read; clipboard-write\" allowfullscreen></iframe>"
   ]
  }
 ],
 "metadata": {
  "language_info": {
   "name": "python"
  }
 },
 "nbformat": 4,
 "nbformat_minor": 2
}
