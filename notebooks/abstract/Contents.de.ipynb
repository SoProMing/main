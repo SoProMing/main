{
 "cells": [
  {
   "cell_type": "markdown",
   "metadata": {},
   "source": [
    "# Software Product Mastering\n",
    "\n",
    "<img src=\"Software_Product_Mastering.webp\" style=\"width:280px; height:280px;\">"
   ]
  },
  {
   "cell_type": "markdown",
   "metadata": {},
   "source": [
    "## Inhaltsverzeichnis\n",
    "\n",
    "* [Eisbrecher](../methods_n_tools/Icebreaker_kickoff.de.ipynb)\n",
    "\n",
    "### Theorie\n",
    "\n",
    "* [Software, das unsichtbare Biest](../theory/Software_the_invisable_beast.de.ipynb)\n",
    "* [Das \"Was\" und das \"Wie\"](../theory/What_and_How.de.ipynb)\n",
    "* [Stacey Matrix](../theory/Stacey_Matrix.de.ipynb)\n",
    "* [Cynefin-Modell](../theory/Cynefin_model.de.ipynb)\n",
    "* [Software-Komplexität im Laufe der Jahre](../theory/Complexity_over_the_years.de.ipynb)\n",
    "* [Conways Gesetz](../theory/Conways_law.de.ipynb)\n",
    "* [Alles im Zusammenhang](../theory/Conclusion.de.ipynb)\n",
    "* [Projekte & Produkte](../theory/Project_Products.de.ipynb)\n",
    "\n",
    "### Kultur\n",
    "\n",
    "* [Die fünf agilen Werte](../culture/Agile_Values.de.ipynb)\n",
    "* [Fehlerkultur](../culture/Error_Culture.de.ipynb)\n",
    "* [Management Stile](../culture/Management_styles.de.ipynb)\n",
    "* [Rollen](../culture/Roles.de.ipynb)\n",
    "\n",
    "### Methoden & Werkzeuge\n",
    "\n",
    "* [Systemischer Ansatz](../methods_n_tools/Systemic_Approach.de.ipynb)\n",
    "* [Methoden Übersicht](../methods_n_tools/Methods.de.ipynb)\n",
    "* [Arbeitselemente & Konzepte Übersicht](../methods_n_tools/Workitems_Concepts.de.ipynb)\n",
    "* [Deliberating structures & practices Übersicht](../methods_n_tools/Deliberating_Structures.de.ipynb)\n",
    "  * [Paperplane Game](../methods_n_tools/deliberating_structures/Paperplane_game.de.ipynb)\n",
    "* [Werkzeuge & Automatisierung Übersicht](../methods_n_tools/Tools_Automation.de.ipynb)\n",
    "  * [CI/CD mit Gitlab](../methods_n_tools/CICD_gitlab.de.ipynb)\n",
    "* [Architektur & Techstacks Übersicht](../methods_n_tools/Techstack_Architecture.de.ipynb)\n",
    "  * [Sample: eShopOnWeb (.NET Stack)](../samples/eShopOnWeb.de.ipynb)\n"
   ]
  },
  {
   "cell_type": "markdown",
   "metadata": {},
   "source": [
    "## [Roter Faden durch die Themen](https://miro.com/app/board/uXjVLKHGo6E=/?moveToWidget=3458764605541796363&cot=14) →\n",
    "\n",
    "<iframe width=\"768\" height=\"768\" src=\"https://miro.com/app/live-embed/uXjVLKHGo6E=/?moveToViewport=-18071,-3983,16942,15672&embedId=457034313853\" frameborder=\"0\" scrolling=\"no\" allow=\"fullscreen; clipboard-read; clipboard-write\" allowfullscreen></iframe>"
   ]
  }
 ],
 "metadata": {
  "language_info": {
   "name": "python"
  }
 },
 "nbformat": 4,
 "nbformat_minor": 2
}
