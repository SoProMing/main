{
 "cells": [
  {
   "cell_type": "markdown",
   "metadata": {},
   "source": [
    "# Software Product Mastering\n",
    "\n",
    "<img src=\"Software_Product_Mastering.webp\">"
   ]
  },
  {
   "cell_type": "markdown",
   "metadata": {},
   "source": [
    "## Einleitung\n",
    "\n",
    "**Einleitung: Software Product Mastering – Dein Weg zu nachhaltiger Software-Entwicklung**\n",
    "\n",
    "In einer Welt, die sich ständig wandelt, stehst du als Entwickler, Projektmanager oder Führungskraft vor der Herausforderung, Software-Produkte zu schaffen, die nicht nur technisch brillant sind, sondern auch echten Mehrwert für deine Kunden bieten und langfristig erfolgreich bleiben. Software Product Mastering hilft dir dabei, diese Herausforderungen zu meistern.\n",
    "\n",
    "Mit einem ganzheitlichen Ansatz, der kulturelle, praktische und technische Ebenen verbindet, kannst du agile Methoden und DevOps-Prinzipien so kombinieren, dass deine Produkte flexibel, skalierbar und anpassungsfähig bleiben. Gleichzeitig unterstützt dich dieses Wissen dabei, Strukturen in deinem Team und deiner Organisation zu schaffen, die auf Zusammenarbeit und kontinuierliche Verbesserung ausgerichtet sind.\n",
    "\n",
    "- **Werde zum Gestalter in komplexen Umgebungen**: Nutze die **Stacey Matrix**, um Klarheit über den Grad der Unsicherheit in deinen Projekten zu gewinnen, und finde passende Strategien für die Lösung.\n",
    "- **Bewege dich sicher im Wandel**: Verstehe mit dem **Cynefin-Modell**, wann bewährte Prozesse greifen und wann Experimente und Anpassung gefragt sind.\n",
    "- **Forme deine Organisation und dein Produkt bewusst**: Mit **Conway’s Law** stellst du sicher, dass die Kommunikationsstrukturen deines Teams mit den Anforderungen deines Produkts harmonieren.\n",
    "\n",
    "Software Product Mastering ist mehr als nur eine Methode – es ist eine Haltung. Du lernst, nicht nur Herausforderungen zu lösen, sondern durch bewusste Gestaltung und kontinuierliche Verbesserung deinen Kunden echten Mehrwert zu bieten und gleichzeitig dein Team und deine Organisation voranzubringen."
   ]
  },
  {
   "cell_type": "markdown",
   "metadata": {},
   "source": [
    "## Und wie geht das?\n",
    "\n",
    "Dieses Dokument ist dein interaktiver Leitfaden, um das Programmieren zu lernen. Es kombiniert Theorie und Praxis und bietet dir eine strukturierte Herangehensweise. Damit du das Beste aus den Inhalten herausholst, empfehle ich dir folgende Schritte:\n",
    "\n",
    "1. **Lesen und Verstehen**: Lies die erklärenden Texte aufmerksam, um die Konzepte und Prinzipien zu verstehen. Jedes Kapitel baut auf dem vorherigen auf, daher macht es Sinn, der Reihenfolge zu folgen.\n",
    "\n",
    "2. **Praktische Übungen**: Viele Abschnitte enthalten Codebeispiele. Kopiere den Code in deine Entwicklungsumgebung und probiere ihn aus. Verändere den Code und beobachte, wie sich deine Änderungen auf das Programm auswirken.\n",
    "\n",
    "3. **Eigene Projekte erstellen**: Wende die erlernten Konzepte an, indem du deine eigenen kleinen Projekte startest. Das hilft dir, das Gelernte zu festigen und deine Kreativität zu fördern.\n",
    "\n",
    "4. **Vertiefung durch Fragen**: Überlege dir bei jedem Abschnitt, wie du die Konzepte in echten Anwendungen einsetzen kannst. Das vertieft dein Verständnis und hilft dir, die Brücke zwischen Theorie und Praxis zu schlagen.\n",
    "\n",
    "5. **Zusätzliche Ressourcen verwenden**: Wenn dich ein Thema besonders interessiert, nutze die Links und Hinweise auf weiterführende Materialien, um dein Wissen zu erweitern.\n",
    "\n",
    "Dieses Dokument ist mehr als nur ein Text – es ist dein Werkzeug, um Programmierkenntnisse praktisch und verständlich zu erweitern. Egal, ob du Selbstlerner bist, anderen Programmieren beibringen willst oder Workshops leitest, hier findest du die Unterstützung, die du brauchst.\n",
    "\n",
    "## Was erwartet dich?\n",
    "\n",
    "**Schritt-für-Schritt-Anleitungen**: Erlerne Programmierkonzepte in deinem eigenen Tempo.\n",
    "\n",
    "**Codebeispiele**: Jede Lektion enthält Codebeispiele, die du sofort ausprobieren kannst.\n",
    "\n",
    "**Interaktivität**: Dank Jupyter Notebooks kannst du den Code direkt bearbeiten und ausführen.\n",
    "\n",
    "**Anleitung zur Einrichtung**: Unter https://github.com/SoProMing/main findest du eine detaillierte Anleitung, wie du die Notebooks herunterladen und Visual Studio Code einrichten kannst, um direkt loszulegen."
   ]
  },
  {
   "cell_type": "markdown",
   "metadata": {},
   "source": [
    "**Hier geht es los**:\n",
    "\n",
    "## [Inhaltsverzeichnis](Contents.de.ipynb) →\n",
    "\n",
    "## Metainformationen"
   ]
  },
  {
   "cell_type": "code",
   "execution_count": 1,
   "metadata": {},
   "outputs": [
    {
     "data": {
      "text/markdown": [
       "\n",
       "    # Dokumentversion und Repository-Status\n",
       "    - **Version**: 1.0.691\n",
       "    - **Aktuelles Datum**: 2024-12-21  \n",
       "    - **Git-Branch**: main  \n",
       "    - **Git-Commit**: e4b8733  \n",
       "    "
      ],
      "text/plain": [
       "<IPython.core.display.Markdown object>"
      ]
     },
     "metadata": {},
     "output_type": "display_data"
    }
   ],
   "source": [
    "from IPython.display import Markdown, display\n",
    "import subprocess\n",
    "from datetime import datetime\n",
    "\n",
    "def get_git_info():\n",
    "    try:\n",
    "        # Aktuellen Commit-Hash\n",
    "        commit_hash = subprocess.check_output([\"git\", \"rev-parse\", \"HEAD\"]).strip().decode('utf-8')\n",
    "        # Aktueller Branch\n",
    "        branch_name = subprocess.check_output([\"git\", \"rev-parse\", \"--abbrev-ref\", \"HEAD\"]).strip().decode('utf-8')\n",
    "        return commit_hash[:7], branch_name\n",
    "    except Exception as e:\n",
    "        return \"Unknown\", \"Unknown\"\n",
    "    \n",
    "def get_days_since():\n",
    "    # Festgelegtes Datum (Projektstart)\n",
    "    start_date = datetime(2023, 1, 30)\n",
    "    # Aktuelles Datum\n",
    "    current_date = datetime.now()\n",
    "    # Differenz in Tagen berechnen\n",
    "    return (current_date - start_date).days\n",
    "\n",
    "def display_document_info():\n",
    "    commit, branch = get_git_info()\n",
    "    current_date = datetime.now().strftime(\"%Y-%m-%d\")\n",
    "    version = \"1.0\"  # Feste Version oder aus einer Konfigurationsdatei laden\n",
    "    \n",
    "    display(Markdown(f\"\"\"\n",
    "    # Dokumentversion und Repository-Status\n",
    "    - **Version**: {version}.{get_days_since()}\n",
    "    - **Aktuelles Datum**: {current_date}  \n",
    "    - **Git-Branch**: {branch}  \n",
    "    - **Git-Commit**: {commit}  \n",
    "    \"\"\"))\n",
    "\n",
    "# Informationen anzeigen\n",
    "display_document_info()"
   ]
  },
  {
   "cell_type": "markdown",
   "metadata": {},
   "source": [
    "## Copyright\n",
    "\n",
    "Alle Bilder und Texte sind mit Unterstützung durch ChatGPT entstanden.\n",
    "\n",
    "All pictures and tests have been generated aided by ChatGPT."
   ]
  }
 ],
 "metadata": {
  "kernelspec": {
   "display_name": "Python 3",
   "language": "python",
   "name": "python3"
  },
  "language_info": {
   "codemirror_mode": {
    "name": "ipython",
    "version": 3
   },
   "file_extension": ".py",
   "mimetype": "text/x-python",
   "name": "python",
   "nbconvert_exporter": "python",
   "pygments_lexer": "ipython3",
   "version": "3.9.13"
  },
  "polyglot_notebook": {
   "kernelInfo": {
    "defaultKernelName": "csharp",
    "items": [
     {
      "aliases": [],
      "name": "csharp"
     }
    ]
   }
  }
 },
 "nbformat": 4,
 "nbformat_minor": 2
}
