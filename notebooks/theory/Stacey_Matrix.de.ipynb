{
 "cells": [
  {
   "cell_type": "markdown",
   "metadata": {},
   "source": [
    "\n",
    "# Stacey Matrix\n",
    "\n",
    "<table border=\"0\">\n",
    "  <tr>\n",
    "    <td>\n",
    "        <img src=\"Stacey_matrix.webp\" style=\"width:280px; height:280px;\">\n",
    "    </td>\n",
    "    <td rowspan=\"2\">\n",
    "        <img src=\"Ralph_Stacey.jpg\" style=\"width:280px;\">\n",
    "    </td>\n",
    "  </tr>\n",
    "  <tr>\n",
    "    <td>\n",
    "      <a href=\"https://de.wikipedia.org/wiki/Cynefin-Framework\">Link auf Wikipedia</a><br>\n",
    "      <a href=\"\">LINK !!! Link zum roten Faden auf Miro</a><br>\n",
    "    </td>\n",
    "  </tr>\n",
    "</table>"
   ]
  },
  {
   "cell_type": "markdown",
   "metadata": {},
   "source": [
    "\n",
    "**Definition**: Tool zur Einordnung von Projekten nach Klarheit der Anforderungen und Gewissheit der Lösung.\n",
    "\n",
    "---\n",
    "\n",
    "<img src=\"Stacey_Options.de.png\">\n",
    "\n",
    "---\n",
    "\n",
    "-   **Achsen**:\n",
    "    \n",
    "    -   **Anforderungen**  (What): Von klar bis unklar.\n",
    "    -   **Lösung**  (How): Von sicher bis unsicher.\n",
    "-   **Kategorien**:\n",
    "    \n",
    "    -   **Einfach (Simple)**: Klarheit über Anforderungen und Lösung.\n",
    "        -   **Vorgehen**: Standardisierte Prozesse, Wasserfallmodell.\n",
    "        -   **Anwendung**: Routinelösungen, z. B. Verwaltungssysteme.\n",
    "    -   **Kompliziert (Complicated)**: Anforderungen klar, Lösung erfordert Expertise.\n",
    "        -   **Vorgehen**: Experten-Analyse, Scrum, Kanban.\n",
    "        -   **Anwendung**: Neue Features in bestehenden Systemen.\n",
    "    -   **Komplex (Complex)**: Anforderungen und Lösung unklar.\n",
    "        -   **Vorgehen**: Agile Methoden, Iterationen, Feedback.\n",
    "        -   **Anwendung**: Innovative Produkte, z. B. neue Apps.\n",
    "    -   **Chaotisch (Chaos)**: Anforderungen und Lösung völlig unklar.\n",
    "        -   **Vorgehen**: Kleine Experimente, Fail-fast.\n",
    "        -   **Anwendung**: Bahnbrechende Technologien, hohe Unsicherheit.\n",
    "\n",
    "<details><summary>Nochmal zum Nachlesen...</summary>\n",
    "\n",
    "Die Stacey Matrix ist ein Management- und Entscheidungstool, das komplexe Probleme und Unsicherheiten visualisiert und aufzeigt, wie unterschiedliche Management- und Herangehensweisen zu verschiedenen Arten von Problemen passen. Entwickelt wurde sie von Ralph Stacey, einem britischen Professor für Management, um Organisationen zu helfen, ihre Projekte und Entscheidungen besser einzuordnen und geeignete Ansätze auszuwählen. Die Matrix ist besonders nützlich in Bereichen wie der Softwareentwicklung, wo Unsicherheiten in Anforderungen und technischen Lösungen häufig vorkommen.\n",
    "\n",
    "### Aufbau der Stacey Matrix\n",
    "\n",
    "Die Stacey Matrix visualisiert Problemfelder entlang zweier Achsen:\n",
    "\n",
    "1. **Grad der Klarheit der Anforderungen** (What): Reicht von „Klarheit“ bis „Unklarheit“.\n",
    "2. **Grad der Gewissheit über die Lösung** (How): Reicht von „Sicher“ bis „Unsicher“.\n",
    "\n",
    "Diese beiden Dimensionen bilden ein Koordinatensystem, das in vier grundlegende Kategorien unterteilt ist:\n",
    "\n",
    "1. **Einfach** (Simple): Klarheit über die Anforderungen und die Lösung. Vorgehensweise und Resultat sind vorhersehbar und leicht zu managen.\n",
    "2. **Kompliziert** (Complicated): Anforderungen sind klar, aber die Lösung ist schwieriger und erfordert mehr Fachwissen oder Analyse. Experten können durch Analysen Lösungen finden.\n",
    "3. **Komplex** (Complex): Sowohl die Anforderungen als auch die Lösung sind unsicher. Die Projekteigenschaften ändern sich dynamisch und sind oft schwer zu prognostizieren. Häufig wird iteratives und exploratives Arbeiten benötigt.\n",
    "4. **Chaotisch** (Chaos): Sowohl Anforderungen als auch die Lösung sind völlig unklar. Es gibt keine klare Richtung, und ein strukturiertes Vorgehen ist kaum möglich. Hier wird experimentelles Arbeiten empfohlen, bis sich eine Richtung ergibt.\n",
    "\n",
    "Zusätzlich gibt es noch den **Bereich des Ungewissen** oder **Zonen der Anarchie** („Zone of Anarchy“) am äußeren Rand, wo Projekte außerhalb sinnvoller Entscheidungsgrundlagen liegen.\n",
    "\n",
    "### Anwendung auf Softwareprodukte und deren Entwicklung\n",
    "\n",
    "Die Stacey Matrix hat für Softwareprodukte erhebliche Auswirkungen, da Softwareentwicklungsprojekte oft von Unsicherheiten geprägt sind. Dies gilt insbesondere für Produkte, bei denen Anforderungen und technische Lösungen noch nicht ausgereift sind, sich dynamisch verändern oder Neuland betreten wird. Folgende Auswirkungen können je nach Position innerhalb der Matrix entstehen:\n",
    "\n",
    "#### 1. **Einfach (Simple)**\n",
    "   - **Merkmale**: Anforderungen sind stabil und klar definiert; technische Lösung ist bekannt und bewährt.\n",
    "   - **Vorgehen**: Projekte in diesem Bereich können leicht durch standardisierte Prozesse, wie **Wasserfallmodelle** oder **stark strukturierte agile Prozesse**, abgewickelt werden.\n",
    "   - **Auswirkung auf Softwareprodukte**: Optimale Planung und Strukturierung möglich; geringe bis keine Iterationen nötig. Ideal für Software mit wiederkehrenden Funktionen, z. B. interne Verwaltungssysteme oder Prozessautomatisierungen, bei denen nur wenig Innovation erforderlich ist.\n",
    "\n",
    "#### 2. **Kompliziert (Complicated)**\n",
    "   - **Merkmale**: Anforderungen sind klar, die Lösung erfordert jedoch spezielle technische Expertise.\n",
    "   - **Vorgehen**: Hier eignet sich ein analytisches Vorgehen mit Expertenteams oder gezielte iterative Methoden. Frameworks wie **Scrum** oder **Kanban** können genutzt werden, wobei technische Experten eine große Rolle spielen.\n",
    "   - **Auswirkung auf Softwareprodukte**: Der Einsatz von Fachwissen minimiert Risiken. Produkte in diesem Bereich erfordern möglicherweise neue Funktionen oder technische Anpassungen, die komplex, aber nicht unlösbar sind. Beispiele wären neue Features in einer bestehenden Anwendung, die nur von einem spezialisierten Team umgesetzt werden können.\n",
    "\n",
    "#### 3. **Komplex (Complex)**\n",
    "   - **Merkmale**: Anforderungen und technische Lösung sind unklar; Feedback und iteratives Lernen sind entscheidend.\n",
    "   - **Vorgehen**: Agile Methoden wie **Scrum** oder **Lean Development** sind besonders effektiv. Häufige **Iterationen** und **Feedback-Loops** sind entscheidend, um Lösungen zu validieren und Anforderungen dynamisch anzupassen.\n",
    "   - **Auswirkung auf Softwareprodukte**: Hohe Anpassungsfähigkeit und Flexibilität notwendig. Produkte in diesem Bereich sind oft innovativ, wie neue Apps, Plattformen oder digitale Services, die kontinuierlich auf Markt- und Kundenfeedback reagieren müssen. Teams arbeiten empirisch, führen Experimente durch und passen die Lösung schrittweise an. Agile Prinzipien bieten eine gute Möglichkeit, den ständigen Wandel zu managen.\n",
    "\n",
    "#### 4. **Chaotisch (Chaos)**\n",
    "   - **Merkmale**: Es gibt weder Klarheit über Anforderungen noch über die technische Lösung.\n",
    "   - **Vorgehen**: In dieser Zone ist es oft am besten, kleine Experimente durchzuführen, um Orientierung zu gewinnen. Ein *Fail-fast*-Ansatz kann sinnvoll sein, um schnell herauszufinden, was funktioniert und was nicht.\n",
    "   - **Auswirkung auf Softwareprodukte**: Bei Softwareprodukten in dieser Zone kann es sich um bahnbrechende, radikal neue Technologien handeln, deren Marktpotenzial und technische Umsetzung unklar sind. Solche Projekte sollten möglichst risikominimierend durchgeführt werden, indem Experimente und Tests frühzeitig validiert werden. Projekte könnten schnell eingestellt oder drastisch umstrukturiert werden, wenn sich eine Richtung als unbrauchbar erweist.\n",
    "\n",
    "### Fazit\n",
    "\n",
    "Die Stacey Matrix ist ein wertvolles Tool, um die richtige Projekt- und Produktstrategie in der Softwareentwicklung zu bestimmen. Indem sie hilft, Komplexität und Unsicherheit zu identifizieren, ermöglicht sie es, die Herangehensweise anzupassen und Ressourcen optimal einzusetzen. Für Softwareentwickler und Projektmanager ist die Matrix eine nützliche Orientierungshilfe, um zu entscheiden, wann standardisierte Prozesse und wann exploratives, iteratives Arbeiten erforderlich ist.\n",
    "</details>"
   ]
  },
  {
   "cell_type": "markdown",
   "metadata": {},
   "source": [
    "## Stacey Matrix spielerisch erleben\n",
    "\n",
    "Ein interaktives Programm in einem Jupyter Notebook könnte die Stacey Matrix auf spielerische Weise vermitteln, indem es den Benutzer dazu auffordert, verschiedene Szenarien in Bezug auf Anforderungs- und Lösungsunsicherheit zu bewerten. Abhängig von den Antworten des Benutzers wird das Projekt in eine Kategorie der Matrix eingeordnet und eine geeignete Vorgehensweise vorgeschlagen.\n",
    "\n",
    "Hier ein Beispiel:"
   ]
  },
  {
   "cell_type": "code",
   "execution_count": null,
   "metadata": {},
   "outputs": [
    {
     "data": {
      "application/vnd.jupyter.widget-view+json": {
       "model_id": "058b3773a9734af0a72b23935e25a40c",
       "version_major": 2,
       "version_minor": 0
      },
      "text/plain": [
       "Label(value='Anforderungen:')"
      ]
     },
     "metadata": {},
     "output_type": "display_data"
    },
    {
     "data": {
      "application/vnd.jupyter.widget-view+json": {
       "model_id": "25ae134370504ecdb98359adaf157e49",
       "version_major": 2,
       "version_minor": 0
      },
      "text/plain": [
       "Dropdown(layout=Layout(width='300px'), options=('Klar', 'Unklar', 'Sehr unklar'), value='Klar')"
      ]
     },
     "metadata": {},
     "output_type": "display_data"
    },
    {
     "data": {
      "application/vnd.jupyter.widget-view+json": {
       "model_id": "c3a686cf207144669670edf0654b67b2",
       "version_major": 2,
       "version_minor": 0
      },
      "text/plain": [
       "Label(value='Lösungssicherheit:')"
      ]
     },
     "metadata": {},
     "output_type": "display_data"
    },
    {
     "data": {
      "application/vnd.jupyter.widget-view+json": {
       "model_id": "57798c8fb6584d00a36699120d54e48b",
       "version_major": 2,
       "version_minor": 0
      },
      "text/plain": [
       "Dropdown(layout=Layout(width='300px'), options=('Sicher', 'Unsicher', 'Sehr unsicher'), value='Sicher')"
      ]
     },
     "metadata": {},
     "output_type": "display_data"
    },
    {
     "data": {
      "application/vnd.jupyter.widget-view+json": {
       "model_id": "d271dde33cd340d0a13c6cf11661dbe9",
       "version_major": 2,
       "version_minor": 0
      },
      "text/plain": [
       "Button(description='Analyse durchführen', layout=Layout(width='200px'), style=ButtonStyle())"
      ]
     },
     "metadata": {},
     "output_type": "display_data"
    },
    {
     "data": {
      "application/vnd.jupyter.widget-view+json": {
       "model_id": "3e436578cd484abdbe3292adeb5cd4e2",
       "version_major": 2,
       "version_minor": 0
      },
      "text/plain": [
       "Output()"
      ]
     },
     "metadata": {},
     "output_type": "display_data"
    }
   ],
   "source": [
    "import ipywidgets as widgets\n",
    "from IPython.display import display, clear_output\n",
    "\n",
    "# Labels für Anforderungen und Lösungssicherheit\n",
    "anforderungen_label = widgets.Label(\"Anforderungen:\")\n",
    "loesung_label = widgets.Label(\"Lösungssicherheit:\")\n",
    "\n",
    "# Dropdown-Widgets für Anforderungen und Lösungssicherheit ohne Beschreibung, dafür breiter\n",
    "anforderungen_dropdown = widgets.Dropdown(\n",
    "    options=[\"Klar\", \"Unklar\", \"Sehr unklar\"],\n",
    "    layout=widgets.Layout(width='300px')\n",
    ")\n",
    "loesung_dropdown = widgets.Dropdown(\n",
    "    options=[\"Sicher\", \"Unsicher\", \"Sehr unsicher\"],\n",
    "    layout=widgets.Layout(width='300px')\n",
    ")\n",
    "\n",
    "# Button-Widget zur Bestätigung\n",
    "button = widgets.Button(description=\"Analyse durchführen\", layout=widgets.Layout(width='200px'))\n",
    "\n",
    "# Ausgabe-Widget\n",
    "output = widgets.Output()\n",
    "\n",
    "# Funktion zur Analyse basierend auf der Stacey Matrix\n",
    "def analyze_project(button):\n",
    "    with output:\n",
    "        clear_output()\n",
    "        anforderungen = anforderungen_dropdown.value.lower()\n",
    "        loesung = loesung_dropdown.value.lower()\n",
    "        \n",
    "        if anforderungen == \"klar\" and loesung == \"sicher\":\n",
    "            result = \"Einfach (Simple) - Standardprozess wie Wasserfallmodell geeignet.\"\n",
    "        elif anforderungen == \"klar\" and loesung == \"unsicher\":\n",
    "            result = \"Kompliziert (Complicated) - Experten-Analyse oder Kanban geeignet.\"\n",
    "        elif anforderungen == \"unklar\" and loesung == \"unsicher\":\n",
    "            result = \"Komplex (Complex) - Agile Methoden, Scrum oder Lean Development empfohlen.\"\n",
    "        elif anforderungen == \"sehr unklar\" or loesung == \"sehr unsicher\":\n",
    "            result = \"Chaotisch (Chaos) - Experimentieren und fail-fast-Ansatz empfohlen.\"\n",
    "        else:\n",
    "            result = \"Zone der Anarchie - Experimentieren und Risikomanagement notwendig.\"\n",
    "        \n",
    "        print(\"Empfohlener Ansatz:\", result)\n",
    "\n",
    "# Button mit der Funktion verknüpfen\n",
    "button.on_click(analyze_project)\n",
    "\n",
    "# Widgets und Ausgabe anzeigen\n",
    "display(anforderungen_label, anforderungen_dropdown)\n",
    "display(loesung_label, loesung_dropdown)\n",
    "display(button)\n",
    "display(output)"
   ]
  },
  {
   "cell_type": "markdown",
   "metadata": {},
   "source": [
    "\n",
    "### Erläuterung des Codes\n",
    "\n",
    "1.  **Dropdown-Menüs**: Die Dropdowns  `anforderungen_dropdown`  und  `loesung_dropdown`  lassen den Benutzer die Anforderungen und Lösungssicherheit auswählen.\n",
    "2.  **Button-Widget**: Der Button „Analyse durchführen“ startet die Analyse.\n",
    "3.  **Funktion  `analyze_project`**: Diese Funktion liest die Auswahl, führt die Entscheidung basierend auf der Stacey Matrix durch und gibt die Empfehlung im  `output`-Widget aus.\n",
    "4.  **Anzeige**: Alle Widgets und das Ausgabe-Widget werden am Ende mit  `display`  zusammen angezeigt."
   ]
  }
 ],
 "metadata": {
  "kernelspec": {
   "display_name": "Python 3",
   "language": "python",
   "name": "python3"
  },
  "language_info": {
   "codemirror_mode": {
    "name": "ipython",
    "version": 3
   },
   "file_extension": ".py",
   "mimetype": "text/x-python",
   "name": "python",
   "nbconvert_exporter": "python",
   "pygments_lexer": "ipython3",
   "version": "3.9.13"
  }
 },
 "nbformat": 4,
 "nbformat_minor": 2
}
