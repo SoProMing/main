{
 "cells": [
  {
   "cell_type": "markdown",
   "metadata": {},
   "source": [
    "[Das unsichtbare Biest](../theory/Software_the_invisable_beast.de.ipynb)\n",
    "\n",
    "# Das \"Was\" und das \"Wie\"\n",
    "\n",
    "<table border=\"0\">\n",
    "  <tr>\n",
    "    <td>\n",
    "        <img src=\"What_and_How.webp\">\n",
    "    </td>\n",
    "    <td rowspan=\"2\">\n",
    "        <a href=\"https://miro.com/app/board/uXjVLKHGo6E=/?moveToWidget=3458764605541796363&cot=14\"><img src=\"Radar_What_n_How.de.jpg\"></a>\n",
    "    </td>\n",
    "  </tr>\n",
    "  <tr>\n",
    "    <td>\n",
    "        <a href=\"https://dconsulted.com/2023/04/05/requirements-vs-implementation-keep-them-apart/\" target=\"_blank\">Requirements Vs Implementation: Keep Them Apart - DConsulted</a><br>\n",
    "        <a href=\"https://www.altexsoft.com/blog/software-requirements-specification/\" target=\"_blank\">Software Requirements Specifications: Best Practices and SRS - AltexSoft</a><br>\n",
    "        <a href=\"https://stratoflow.com/requirements-analysis/\" target=\"_blank\">SDLC Guide: Requirement Analysis in Software Engineering - Stratoflow</a><br>\n",
    "        <a href=\"https://www.freecodecamp.org/news/why-understanding-software-requirements-matter-to-you-as-a-software-engineer/\" target=\"_blank\">Why You Need to Understand Software Requirements as a Software Engineer - freeCodeCamp</a><br>\n",
    "        <a href=\"https://softengbook.org/chapter3\" target=\"_blank\">Chapter 3: Requirements – Software Engineering: A Modern Approach</a><br>\n",
    "        <a href=\"https://softwaremind.com/blog/software-requirements-engineering-the-driving-force-behind-successful-and-efficient-it-projects/\" target=\"_blank\">Software Requirements Engineering - Software Mind</a><br>\n",
    "        <a href=\"https://link.springer.com/article/10.1007/s00766-023-00405-y\" target=\"_blank\">Requirements quality research: a harmonized theory, evaluation, and roadmap - SpringerLink</a><br>\n",
    "        <a href=\"https://link.springer.com/chapter/10.1007/978-3-319-46535-7_23\" target=\"_blank\">Interface-Based Software Requirements Analysis - SpringerLink</a><br>\n",
    "        <a href=\"https://link.springer.com/article/10.1007/s00766-022-00394-4\" target=\"_blank\">Measuring and improving software requirements elicitation in a small-sized software organization - SpringerLink</a><br>\n",
    "        <a href=\"https://jeas.springeropen.com/articles/10.1186/s44147-024-00363-4\" target=\"_blank\">Recommendation systems-based software requirements elicitation process: a systematic literature review - Journal of Engineering and Applied Science</a><br>\n",
    "    </td>\n",
    "  </tr>\n",
    "</table>"
   ]
  },
  {
   "cell_type": "markdown",
   "metadata": {},
   "source": [
    "Entkopplung von „Was“ (Anforderungen) und „Wie“ (Umsetzung) in der Softwareentwicklung\n",
    "\n",
    "---\n",
    "\n",
    "<img src=\"What_and_How.de.png\">\n",
    "\n",
    "---"
   ]
  },
  {
   "cell_type": "markdown",
   "metadata": {},
   "source": [
    "### „Was“ – Anforderungsebene\n",
    "\n",
    "-   **Ziel:**  Klare Definition des gewünschten Endergebnisses\n",
    "-   **Zeitplan:**  Festlegung von Meilensteinen und Deadlines\n",
    "-   **Budget:**  Maximal erlaubte Kosten\n",
    "-   **Anforderungen:**  Präzisierung von Funktionen und Nutzerbedürfnissen\n",
    "-   **Klarheit:**  Vage Idee oder detailliertes Ziel?\n",
    "\n",
    "### „Wie“ – Umsetzungsebene\n",
    "\n",
    "-   **Team:**  Passende Mitarbeiter und Kompetenzen\n",
    "-   **Vorgehensweise:**  Auswahl der Methodik (z. B. agil oder Wasserfall)\n",
    "-   **Technologien:**  Festlegung von Tools und Plattformen\n",
    "-   **Risiken:**  Umgang mit technischen Unsicherheiten (z. B. Prototyping)\n",
    "-   **Zwischenschritte & Feedback:**  Milestones und regelmäßige Überprüfungen\n",
    "\n",
    "### Vorteile der Entkopplung\n",
    "\n",
    "-   **Flexibilität:**  Änderungen im „Was“ oder „Wie“ unabhängig voneinander möglich\n",
    "-   **Risikominimierung:**  Risiken können gezielt adressiert werden\n",
    "-   **Klarheit und Verantwortung:**  Klare Verantwortlichkeiten und Kommunikationswege"
   ]
  },
  {
   "cell_type": "markdown",
   "metadata": {},
   "source": [
    "\n",
    "<details><summary>Nochmal zum Nachlesen...</summary>\n",
    "Die Entkopplung von Anforderung („Was“) und Umsetzung („Wie“) in der Softwareentwicklung ist essenziell, um Flexibilität zu schaffen und eine klare Aufteilung der Verantwortlichkeiten zu ermöglichen. Diese Entkopplung erlaubt es, dass sich die Anforderungen und das Verständnis des Ziels unabhängig vom technischen Lösungsweg weiterentwickeln können. Dadurch wird die Entwicklung weniger starr und ermöglicht eine iterative Anpassung, die sowohl Unsicherheiten in den Anforderungen als auch technische Risiken berücksichtigt.\n",
    "\n",
    "### Das „Was“ – Anforderungsebene\n",
    "Auf der Ebene des „Was“ werden strategische und geschäftliche Fragen geklärt, die die Grundlage für das Projekt bilden. Hier geht es darum, die Motivation und die Erwartungen hinter der Software klar zu verstehen, ohne sich sofort in die technischen Details zu vertiefen. Typische Fragen auf dieser Ebene sind:\n",
    "\n",
    "- **Welches Ziel soll erreicht werden?**  \n",
    "  Hier geht es darum, das gewünschte Endergebnis zu definieren, also den Nutzen oder die Problemlösung, die die Software bieten soll. Ein klares Ziel hilft dabei, den Wert des Projekts zu verstehen und sicherzustellen, dass alle Beteiligten eine gemeinsame Vision haben.\n",
    "\n",
    "- **Wann soll das Ziel erreicht werden?**  \n",
    "  Diese Frage hilft, eine Zeitleiste zu setzen und Meilensteine zu definieren. Ein realistischer Zeitplan unterstützt das Projektmanagement und ermöglicht es, priorisierte Anforderungen zuerst zu implementieren, falls Zeitdruck besteht.\n",
    "\n",
    "- **Wie teuer darf die Entwicklung maximal sein?**  \n",
    "  Das Budget beeinflusst die verfügbaren Ressourcen und hilft dabei, die Machbarkeit abzuschätzen. Es stellt sicher, dass das Projekt innerhalb der finanziellen Rahmenbedingungen bleibt und dass Entscheidungen zu Funktionen und Prioritäten getroffen werden können, falls Kompromisse notwendig sind.\n",
    "\n",
    "- **Welche Anforderungen sind konkret?**  \n",
    "  Hier werden die Hauptanforderungen spezifiziert, um den Projektumfang abzugrenzen. Dies könnte die Definition von Benutzerrollen, Sicherheitsanforderungen, Performance-Zielen oder spezifischen Funktionalitäten umfassen.\n",
    "\n",
    "- **Handelt es sich um eine vage Idee oder ist das Ziel detailliert ausgearbeitet?**  \n",
    "  Wenn das „Was“ nur als vage Idee vorliegt, ist eine agile, iterativ-inkrementelle Vorgehensweise empfehlenswert, um die Anforderungen im Laufe der Zeit zu konkretisieren. Eine detaillierte Anforderung hingegen kann präzisere Planungen und möglicherweise einen stärker strukturierten Ansatz ermöglichen.\n",
    "\n",
    "Die Beantwortung dieser Fragen auf der Anforderungsebene legt den Fokus auf das „Was“ und gibt der Entwicklung klare, geschäftsgetriebene Rahmenbedingungen.\n",
    "\n",
    "### Das „Wie“ – Umsetzungsebene\n",
    "Sobald das „Was“ in seinen Grundzügen geklärt ist, wird die Umsetzungsebene („Wie“) relevant. Hier wird der technische Lösungsweg detailliert und der Plan erstellt, wie die Anforderungen erfüllt werden können. Die Fragen auf dieser Ebene helfen, die praktische Umsetzung zu organisieren und Risiken in Bezug auf die Machbarkeit und Effizienz zu steuern.\n",
    "\n",
    "- **Welche Mitarbeiter und Kompetenzen werden benötigt?**  \n",
    "  Die Auswahl der Teammitglieder oder die Definition benötigter Kompetenzen ist entscheidend, um die Umsetzung effektiv zu gestalten. Die richtigen Fähigkeiten im Team ermöglichen es, die Anforderungen optimal zu erfüllen und technische Hürden schneller zu überwinden.\n",
    "\n",
    "- **Welcher Weg soll eingeschlagen werden?**  \n",
    "  Diese Frage betrifft den gesamten Prozess der Softwareentwicklung, also ob beispielsweise ein agiler Ansatz wie Scrum oder ein klassischer Wasserfall-Ansatz gewählt wird. Die Methodik sollte zum Projekt passen und hilft, Arbeitsabläufe zu strukturieren und effizient zu gestalten.\n",
    "\n",
    "- **Welche Technologien und Werkzeuge werden eingesetzt?**  \n",
    "  Die Auswahl der Technologien (z. B. Programmiersprachen, Frameworks, Plattformen) ist von zentraler Bedeutung, da sie die Architektur, Entwicklungszeit und Wartbarkeit beeinflusst. Dies betrifft auch Werkzeuge für das Projektmanagement, die Versionskontrolle und die Qualitätssicherung.\n",
    "\n",
    "- **Wie wird mit technischen Risiken umgegangen?**  \n",
    "  Hierzu zählen mögliche Risiken im Zusammenhang mit neuen Technologien, komplexen Architekturentscheidungen oder Integrationsproblemen. Eine Risikobewertung und die Identifikation von Experimenten (z. B. Prototyping oder Proof-of-Concepts) können helfen, technische Unsicherheiten zu verringern.\n",
    "\n",
    "- **Gibt es Zwischenschritte und wie wird Feedback gesammelt?**  \n",
    "  Die Definition von Zwischenschritten und Milestones ist wichtig, um den Fortschritt zu überwachen und die Einhaltung der Anforderungen sicherzustellen. Regelmäßiges Feedback (z. B. durch Stakeholder-Reviews oder Usability-Tests) stellt sicher, dass das Projekt auf Kurs bleibt und Anpassungen frühzeitig vorgenommen werden können.\n",
    "\n",
    "### Vorteile der Entkopplung von „Was“ und „Wie“\n",
    "Durch eine klare Trennung dieser beiden Ebenen wird sichergestellt, dass das Team auf der Anforderungsebene flexibel auf Änderungen reagieren kann, ohne die technische Umsetzung zu beeinträchtigen. Genauso können auf der Umsetzungsebene technische Herausforderungen und Lösungen diskutiert werden, ohne dass die Gesamtanforderungen infrage gestellt werden. Hier sind einige wichtige Vorteile:\n",
    "\n",
    "- **Flexibilität bei Anforderungen und technischem Weg:** Die Entwicklung bleibt anpassbar und kann auf geänderte Geschäftsanforderungen oder technologische Fortschritte reagieren.\n",
    "- **Risikominimierung:** Durch die Entkopplung kann das Team spezifische Risiken auf jeder Ebene isoliert betrachten und gezielt adressieren.\n",
    "- **Klarheit und Verantwortung:** Jedes Teammitglied weiß, ob es für das „Was“ oder das „Wie“ verantwortlich ist, wodurch Kommunikations- und Entscheidungslinien klarer werden.\n",
    "\n",
    "Zusammengefasst erlaubt die Entkopplung, dass Änderungen in den Anforderungen nicht sofort die technische Umsetzung beeinflussen und technische Innovationen sich auf die bestmögliche Umsetzung konzentrieren, ohne die Ziele aus den Augen zu verlieren.\n",
    "</details>"
   ]
  },
  {
   "cell_type": "markdown",
   "metadata": {},
   "source": [
    "## Was und wie als Diagramm\n",
    "\n",
    "---\n",
    "\n",
    "<img src=\"What_and_How2.de.png\">\n",
    "\n",
    "---"
   ]
  },
  {
   "cell_type": "markdown",
   "metadata": {},
   "source": [
    "### Aufbau des Diagramms\n",
    "- **X-Achse:** Klarheit des „Wie“ (links = unklar, rechts = klar)\n",
    "- **Y-Achse:** Klarheit des „Was“ (unten = unklar, oben = klar)\n",
    "\n",
    "### Interpretation der Position\n",
    "- **Rechts oben:** Klare Anforderungen & klare Umsetzung → stabiler, strukturierter Ansatz\n",
    "- **Oben links:** Klare Anforderungen, unklare Umsetzung → Prototyping, iterative Klärung des technischen Wegs\n",
    "- **Unten rechts:** Unklare Anforderungen, klare Umsetzung → MVPs, iteratives Feedback zur Schärfung der Anforderungen\n",
    "- **Links unten:** Unklare Anforderungen & unklare Umsetzung → explorativer, agiler Ansatz mit intensivem Kundenfeedback\n",
    "\n",
    "### Nutzen\n",
    "- **Zeigt an**, wo Klärungsbedarf besteht (Anforderungen oder Lösungsweg)\n",
    "- **Hilft bei der Wahl des Entwicklungsansatzes** (strukturiert oder flexibel)\n",
    "- **Unterstützt Risikomanagement** durch frühe Erkennung von Unsicherheiten\n",
    "\n",
    "<details><summary>Nochmal zum Nachlesen...</summary>\n",
    "\n",
    "Ein **Diagramm zur Visualisierung der Klarheit in den Dimensionen „Was“** (Anforderungen und Ziel) und **„Wie“** (technischer Lösungsweg) kann genutzt werden, um auf einen Blick den aktuellen Status eines Projekts in Bezug auf die Anforderungen und die technische Umsetzung zu erfassen. Es hilft Projektteams, Unsicherheiten frühzeitig zu erkennen und den Entwicklungsprozess optimal zu steuern.\n",
    "\n",
    "### Aufbau des Diagramms\n",
    "\n",
    "Das Diagramm basiert auf zwei Achsen, die jeweils die Klarheit des „Was“ und des „Wie“ abbilden:\n",
    "\n",
    "1. **X-Achse: Klarheit des „Wie“**  \n",
    "   Die X-Achse verläuft von links („unklar“) nach rechts („klar“) und zeigt, wie gut der technische Lösungsweg, also das „Wie“, definiert ist. Hier wird visualisiert, ob der technische Ansatz, die genutzten Technologien, der Aufbau der Architektur und die notwendigen Schritte zur Umsetzung klar und präzise festgelegt sind.\n",
    "\n",
    "2. **Y-Achse: Klarheit des „Was“**  \n",
    "   Die Y-Achse verläuft von unten („unklar“) nach oben („klar“) und gibt an, wie genau die Anforderungen und das Ziel des Projekts definiert sind, also das „Was“. Dies betrifft Fragen nach den gewünschten Funktionen, den Benutzerbedürfnissen, den zu erreichenden Ergebnissen und dem übergeordneten Ziel des Projekts.\n",
    "\n",
    "### Skalen und Positionierung\n",
    "\n",
    "- **Position auf der X-Achse (Klarheit des „Wie“):**  \n",
    "  Projekte, die weiter rechts auf der X-Achse liegen, haben eine präzise Vorstellung darüber, wie die Umsetzung erfolgen soll. Der technische Lösungsweg ist klar und gut durchdacht, und es besteht weniger Bedarf an experimentellen Ansätzen oder Prototypen. Ein Projektpunkt weiter links zeigt hingegen an, dass Unsicherheiten hinsichtlich der technischen Umsetzung bestehen. Hier könnten Prototyping, technische Experimente oder ein iterativer Ansatz sinnvoll sein, um die Klarheit zu erhöhen.\n",
    "\n",
    "- **Position auf der Y-Achse (Klarheit des „Was“):**  \n",
    "  Ein Punkt, der weiter oben auf der Y-Achse liegt, deutet darauf hin, dass das Projektteam ein klares Verständnis der Anforderungen und des gewünschten Ergebnisses hat. Die Ziele und Funktionalitäten sind eindeutig definiert, und es besteht Konsens über das „Was“. Ein Punkt weiter unten zeigt, dass noch Unsicherheiten bezüglich der Anforderungen bestehen. Hier ist eine iterativ-inkrementelle Entwicklung, möglicherweise mit kontinuierlichem Kundenfeedback, hilfreich, um die Anforderungen im Verlauf des Projekts zu konkretisieren.\n",
    "\n",
    "### Interpretation der Position im Diagramm\n",
    "\n",
    "Die Position eines Projekts im Diagramm gibt Hinweise darauf, wie viel Arbeit und Planung in die beiden Dimensionen investiert werden muss und welche Art von Entwicklungsansatz sich eignet:\n",
    "\n",
    "- **Klarheit in beiden Dimensionen (rechts oben):**  \n",
    "  Ein Projekt, das sich weiter rechts oben im Diagramm befindet, zeigt eine hohe Klarheit in Bezug auf Anforderungen und technische Umsetzung. Sowohl das Ziel als auch der technische Weg sind gut definiert, was eine stabile und strukturierte Vorgehensweise erlaubt. Ein klassischer Wasserfall-Ansatz oder ein geplanter agiler Ansatz kann hier geeignet sein, da die Anforderungen stabil sind und der technische Weg klar vorgegeben ist.\n",
    "\n",
    "- **Hohe Klarheit im „Was“, aber Unsicherheit im „Wie“ (oben links):**  \n",
    "  Wenn der Punkt des Projekts weiter oben, aber links im Diagramm liegt, sind die Anforderungen klar, jedoch besteht Unsicherheit in der technischen Umsetzung. In solchen Fällen können technische Experimente, Prototyping oder ein risikobasiertes Vorgehen sinnvoll sein, um die beste technische Lösung zu finden. Hier kann ein iterativer, agiler Prozess hilfreich sein, um Lösungen zu testen und schrittweise die Klarheit im „Wie“ zu erhöhen.\n",
    "\n",
    "- **Hohe Klarheit im „Wie“, aber Unsicherheit im „Was“ (unten rechts):**  \n",
    "  Ein Punkt weiter rechts, aber unten, zeigt, dass der technische Lösungsweg klar ist, während die Anforderungen noch unklar sind. Hier kann es sich anbieten, die Anforderungen schrittweise zu konkretisieren und durch Feedbackschleifen und frühe Tests am Benutzer die Bedürfnisse besser zu verstehen. Ein Ansatz mit Minimum Viable Products (MVPs) oder kleinen, iterativen Verbesserungen hilft hier, das „Was“ schrittweise zu schärfen.\n",
    "\n",
    "- **Unsicherheit in beiden Dimensionen (links unten):**  \n",
    "  Befindet sich das Projekt links unten, sind sowohl die Anforderungen als auch der technische Lösungsweg noch unklar. Ein stark explorativer und agiler Ansatz ist hier notwendig, um sowohl das „Was“ als auch das „Wie“ schrittweise zu definieren. In diesem Fall sind Methoden wie Design Thinking, intensives Prototyping und kontinuierliches Kundenfeedback sehr hilfreich, um die Klarheit beider Dimensionen zu verbessern.\n",
    "\n",
    "### Anpassung des Entwicklungsansatzes\n",
    "\n",
    "Die Position des Projektpunkts im Diagramm zeigt somit an, welche Dimension noch weiter geklärt werden muss und wie flexibel oder strukturiert der Entwicklungsprozess gestaltet werden sollte. Projekte weiter oben und rechts im Diagramm sind bereit für eine planbare Umsetzung, während Projekte mit einer Position weiter unten oder links auf Flexibilität und iterative Klärung setzen sollten.\n",
    "\n",
    "### Nutzen des Diagramms\n",
    "\n",
    "Dieses Diagramm bietet einen schnellen Überblick über den Klarheitsgrad eines Projekts in den Dimensionen „Was“ und „Wie“. Es ermöglicht den Projektteams, auf einen Blick zu erkennen, in welchen Bereichen Unsicherheiten bestehen und welche methodischen Ansätze geeignet sind, um die Klarheit zu erhöhen. So wird die Planung und Umsetzung gezielt an die spezifischen Bedürfnisse des Projekts angepasst, und Risiken können frühzeitig identifiziert und minimiert werden.\n",
    "</details>"
   ]
  },
  {
   "cell_type": "markdown",
   "metadata": {},
   "source": [
    "## Das \"Was\" und das \"Wie\" spielerisch erleben\n",
    "\n",
    "Ein kleines interaktives Programm, in dem der Benutzer durch die Dimensionen „Was“ und „Wie“ navigiert und seine Antworten bewertet, um zu sehen, in welchem Bereich des Diagramms sein Projekt liegt. Am Ende wird automatisch eine Empfehlung für den Entwicklungsansatz angezeigt.\n",
    "\n",
    "Hier ist ein einfaches Beispiel für ein solches Programm:\n",
    "\n",
    "1.  **Setup**: Erstelle ein interaktives Widget, das dem Benutzer Fragen zur Klarheit des „Was“ und „Wie“ stellt.\n",
    "2.  **Bewertung**: Lasse den Benutzer für jede Frage Punkte von 1 bis 5 vergeben, wobei 1 „sehr unklar“ und 5 „sehr klar“ bedeutet.\n",
    "3.  **Berechnung und Feedback**: Basierend auf den Eingaben wird das Projekt im Diagramm positioniert und eine passende Empfehlung für den Entwicklungsansatz angezeigt.\n",
    "4.  **Ergebnis visualisieren**: Ein Diagramm zeigt den Punkt für das Projekt an der berechneten Position im Klarheitsdiagramm.\n",
    "\n",
    "Hier ist ein Beispielcode für die Umsetzung:"
   ]
  },
  {
   "cell_type": "code",
   "execution_count": 2,
   "metadata": {},
   "outputs": [
    {
     "data": {
      "application/vnd.jupyter.widget-view+json": {
       "model_id": "e98ce8d6abe84946ab86f4f142819ef9",
       "version_major": 2,
       "version_minor": 0
      },
      "text/plain": [
       "IntSlider(value=3, description=\"Klarheit des 'Was'\", max=5, min=1)"
      ]
     },
     "metadata": {},
     "output_type": "display_data"
    },
    {
     "data": {
      "application/vnd.jupyter.widget-view+json": {
       "model_id": "dec52292627146519e09bb5e46e54b29",
       "version_major": 2,
       "version_minor": 0
      },
      "text/plain": [
       "IntSlider(value=3, description=\"Klarheit des 'Wie'\", max=5, min=1)"
      ]
     },
     "metadata": {},
     "output_type": "display_data"
    },
    {
     "data": {
      "application/vnd.jupyter.widget-view+json": {
       "model_id": "8df72f38e0514a1ca8669d746c882a16",
       "version_major": 2,
       "version_minor": 0
      },
      "text/plain": [
       "Button(description='Projekt positionieren', style=ButtonStyle())"
      ]
     },
     "metadata": {},
     "output_type": "display_data"
    },
    {
     "data": {
      "image/png": "[encoded data removed]",
      "text/plain": [
       "<Figure size 600x600 with 1 Axes>"
      ]
     },
     "metadata": {},
     "output_type": "display_data"
    },
    {
     "name": "stdout",
     "output_type": "stream",
     "text": [
      "Empfehlung: Stabiler, strukturierter Ansatz empfohlen.\n"
     ]
    }
   ],
   "source": [
    "import ipywidgets as widgets\n",
    "from IPython.display import display\n",
    "import matplotlib.pyplot as plt\n",
    "\n",
    "# Interaktive Fragen erstellen\n",
    "question_what = widgets.IntSlider(value=3, min=1, max=5, step=1, description=\"Klarheit des 'Was'\")\n",
    "question_how = widgets.IntSlider(value=3, min=1, max=5, step=1, description=\"Klarheit des 'Wie'\")\n",
    "submit_button = widgets.Button(description=\"Projekt positionieren\")\n",
    "\n",
    "# Anzeige der Fragen\n",
    "display(question_what, question_how, submit_button)\n",
    "\n",
    "# Funktion zur Berechnung und Ausgabe der Empfehlung\n",
    "def evaluate_project(event):\n",
    "    # Werte des „Was“ und „Wie“ erfassen\n",
    "    what_score = question_what.value\n",
    "    how_score = question_how.value\n",
    "    \n",
    "    # Diagramm zeichnen\n",
    "    plt.figure(figsize=(6, 6))\n",
    "    plt.plot(what_score, how_score, 'bo', markersize=10)\n",
    "    plt.xlim(1, 5)\n",
    "    plt.ylim(1, 5)\n",
    "    plt.xlabel(\"Klarheit des 'Wie'\")\n",
    "    plt.ylabel(\"Klarheit des 'Was'\")\n",
    "    plt.title(\"Projektposition im Klarheitsdiagramm\")\n",
    "    plt.grid(True)\n",
    "    plt.show()\n",
    "    \n",
    "    # Empfehlung basierend auf der Position\n",
    "    if what_score >= 4 and how_score >= 4:\n",
    "        recommendation = \"Stabiler, strukturierter Ansatz empfohlen.\"\n",
    "    elif what_score >= 4 and how_score < 4:\n",
    "        recommendation = \"Iteratives Prototyping für technische Klärung sinnvoll.\"\n",
    "    elif what_score < 4 and how_score >= 4:\n",
    "        recommendation = \"Iterative Klärung der Anforderungen mit MVPs und Feedback.\"\n",
    "    else:\n",
    "        recommendation = \"Explorativer Ansatz mit intensivem Feedback empfohlen.\"\n",
    "    \n",
    "    # Ausgabe der Empfehlung\n",
    "    print(\"Empfehlung:\", recommendation)\n",
    "\n",
    "# Button-Click-Event verknüpfen\n",
    "submit_button.on_click(evaluate_project)"
   ]
  },
  {
   "cell_type": "markdown",
   "metadata": {},
   "source": [
    "### Erläuterung des Codes:\n",
    "\n",
    "-   **Widgets**: Der Benutzer kann die Klarheit des „Was“ und „Wie“ mithilfe von Schiebereglern bewerten.\n",
    "-   **Positionierung**: Der Code platziert die Projektposition auf einem Diagramm mit der Skala von 1 bis 5 auf beiden Achsen.\n",
    "-   **Empfehlung**: Basierend auf der Position des Projekts wird eine Empfehlung für den Entwicklungsansatz angezeigt."
   ]
  }
 ],
 "metadata": {
  "kernelspec": {
   "display_name": "Python 3",
   "language": "python",
   "name": "python3"
  },
  "language_info": {
   "codemirror_mode": {
    "name": "ipython",
    "version": 3
   },
   "file_extension": ".py",
   "mimetype": "text/x-python",
   "name": "python",
   "nbconvert_exporter": "python",
   "pygments_lexer": "ipython3",
   "version": "3.9.13"
  }
 },
 "nbformat": 4,
 "nbformat_minor": 2
}
