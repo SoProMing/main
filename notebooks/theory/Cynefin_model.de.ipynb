{
 "cells": [
  {
   "cell_type": "markdown",
   "metadata": {},
   "source": [
    "# Cynefin-Modell in der Softwareentwicklung\n",
    "\n",
    "<table border=\"0\">\n",
    "  <tr>\n",
    "    <td>\n",
    "        <img src=\"Cynefin_model.webp\" style=\"width:280px; height:280px;\">\n",
    "    </td>\n",
    "    <td rowspan=\"2\">\n",
    "        <img src=\"Dave_snowden.jpeg\" style=\"width:280px;\"><br>\n",
    "        Quelle: <a href=\"https://en.wikipedia.org/wiki/Dave_Snowden\">https://en.wikipedia.org/wiki/Dave_Snowden</a> (9.11.2024)\n",
    "    </td>\n",
    "  </tr>\n",
    "  <tr>\n",
    "    <td>\n",
    "      <a href=\"https://de.wikipedia.org/wiki/Cynefin-Framework\">Link auf Wikipedia</a><br>\n",
    "      <a href=\"https://miro.com/app/board/uXjVLKHGo6E=/?moveToWidget=3458764605538984962&cot=14\">Link zum roten Faden auf Miro</a><br>\n",
    "    </td>\n",
    "  </tr>\n",
    "</table>"
   ]
  },
  {
   "cell_type": "markdown",
   "metadata": {},
   "source": [
    "Das **Cynefin-Modell** (ausgesprochen: kuh-NEV-in) ist ein Framework, das ursprünglich vom walisischen Forscher Dave Snowden entwickelt wurde und hilft, verschiedene Arten von Problemen zu kategorisieren und darauf aufbauend die geeigneten Entscheidungsstrategien und Handlungsweisen zu wählen. Im Kontext der Softwareentwicklung bietet das Modell einen nützlichen Rahmen, um komplexe Entscheidungen zu treffen und geeignete Methoden zur Problemlösung und Projektsteuerung zu wählen.\n",
    "\n",
    "Cynefin ist ein walisisches Wort, das üblicherweise im Deutschen mit 'Lebensraum' oder 'Platz' übersetzt wird, obwohl diese Übersetzung nicht seine volle Bedeutung vermitteln kann. Eine vollständige Übersetzung des Wortes würde aussagen, dass wir alle mehrere Vergangenheiten haben, derer wir nur teilweise bewusst sein können: kulturelle, religiöse, geographische, stammesgeschichtliche usw.\n",
    "\n",
    "---\n",
    "\n",
    "<img src=\"Cynefin_Options.de.png\">\n",
    "\n",
    "---\n",
    "\n",
    "1. **Einfach (Obvious)**  \n",
    "   - *Merkmale*: Ursache-Wirkung klar, Best Practices vorhanden  \n",
    "   - *Vorgehen*: „Erkennen – Kategorisieren – Reagieren“  \n",
    "   - *Beispiele*: Wartungsaufgaben, Einhaltung von Coding-Standards  \n",
    "\n",
    "2. **Kompliziert (Complicated)**  \n",
    "   - *Merkmale*: Ursache-Wirkung nicht sofort klar, Fachwissen erforderlich  \n",
    "   - *Vorgehen*: „Erkennen – Analysieren – Reagieren“  \n",
    "   - *Beispiele*: Architekturdesign, Performance-Optimierung  \n",
    "\n",
    "3. **Komplex (Complex)**  \n",
    "   - *Merkmale*: Ursache-Wirkung retrospektiv erkennbar, Experimentation notwendig  \n",
    "   - *Vorgehen*: „Probieren – Erkennen – Reagieren“  \n",
    "   - *Beispiele*: Entwicklung neuer Features, Prototypen-Tests  \n",
    "\n",
    "4. **Chaotisch (Chaotic)**  \n",
    "   - *Merkmale*: Keine klare Ursache-Wirkung, schnelle Reaktion erforderlich  \n",
    "   - *Vorgehen*: „Handeln – Erkennen – Reagieren“  \n",
    "   - *Beispiele*: Notfall-Bugfixes, Sicherheitsverletzungen  \n",
    "\n",
    "5. **Unordentlich (Disorder)**  \n",
    "   - *Merkmale*: Kategorie unklar, Diagnosephase nötig  \n",
    "   - *Beispiele*: Unklare Anfangsphase von Projekten  \n",
    "\n",
    "**Nutzen im Projektmanagement**  \n",
    "- *Methodenanpassung*: Wahl passender Methoden für die jeweilige Kategorie  \n",
    "- *Risiko-Management*: Kategorisierung zur besseren Risikoeinschätzung  \n",
    "- *Agilität*: Iterative Methoden im komplexen Bereich"
   ]
  },
  {
   "cell_type": "markdown",
   "metadata": {},
   "source": [
    "<details><summary>Nochmal zum Nachlesen...</summary>\n",
    "\n",
    "Das Modell unterscheidet fünf Bereiche, die durch die Natur und das Verständnis der Probleme und Systeme geprägt sind:\n",
    "\n",
    "1. **Einfach (Obvious)**:\n",
    "    - Probleme in diesem Bereich sind klar und einfach zu verstehen. Ursache und Wirkung sind offensichtlich und die Lösung kann auf bewährte Best Practices zurückgreifen. In der Softwareentwicklung betrifft dies oft routinemäßige Aufgaben, wie das Debuggen von gut bekannten Fehlern, die Standardimplementierung von bewährten Mustern oder das Anwenden von Coding-Standards.\n",
    "    - **Vorgehensweise**: „Sense – Categorize – Respond“ (Erkennen – Kategorisieren – Reagieren).\n",
    "    - **Beispiele**: Standardisierte Wartungsaufgaben, Einhaltung von Coding-Guidelines und Durchführung von klar definierten Testfällen.\n",
    "\n",
    "2. **Kompliziert (Complicated)**:\n",
    "    - Hier sind die Beziehungen zwischen Ursache und Wirkung zwar nicht sofort offensichtlich, aber durch Analyse herauszufinden. Für diese Art von Problemen ist Fachwissen erforderlich. Softwarearchitektur-Design, die Optimierung von Algorithmen oder das Einführen neuer Frameworks fallen oft in diesen Bereich, da Expertise und Erfahrung erforderlich sind.\n",
    "    - **Vorgehensweise**: „Sense – Analyze – Respond“ (Erkennen – Analysieren – Reagieren).\n",
    "    - **Beispiele**: Design-Entscheidungen zur Skalierbarkeit oder Performance-Optimierung, Auswahl eines geeigneten Technologie-Stacks, Einführung neuer Frameworks.\n",
    "\n",
    "3. **Komplex (Complex)**:\n",
    "    - In diesem Bereich ist Ursache und Wirkung erst im Nachhinein (retrospektiv) erkennbar. In der Softwareentwicklung trifft dies oft auf die Implementierung neuer, innovativer Features zu, die zuvor in dieser Form noch nicht umgesetzt wurden. Iterative Ansätze wie agile Methoden oder Scrum eignen sich gut für komplexe Umgebungen, da sie durch kurze Iterationen und regelmäßige Rückmeldungen helfen, auf Veränderungen zu reagieren und den Entwicklungsprozess anzupassen.\n",
    "    - **Vorgehensweise**: „Probe – Sense – Respond“ (Probieren – Erkennen – Reagieren).\n",
    "    - **Beispiele**: Entwicklung neuartiger Features, das Testen von Prototypen oder Proof of Concepts, Umstellungen auf neue Softwarearchitekturen.\n",
    "\n",
    "4. **Chaotisch (Chaotic)**:\n",
    "    - In chaotischen Situationen gibt es keine Beziehung zwischen Ursache und Wirkung. Hier steht das Problem oft plötzlich und unvorhergesehen auf der Agenda, etwa bei Krisen oder akuten Zwischenfällen. In der Softwareentwicklung tritt dieser Zustand bei schwerwiegenden Bugs in Produktivsystemen auf, die schnelles Eingreifen und unmittelbare Lösungsansätze erfordern.\n",
    "    - **Vorgehensweise**: „Act – Sense – Respond“ (Handeln – Erkennen – Reagieren).\n",
    "    - **Beispiele**: Notfall-Reparaturen, schnelle Bugfixes, Reaktionen auf Sicherheitsverletzungen.\n",
    "\n",
    "5. **Unordentlich (Aporetisch/Disorder)**:\n",
    "    - Diese Kategorie beschreibt einen Zustand, in dem unklar ist, welche der vier vorherigen Kategorien zutrifft. Es handelt sich um eine Zwischenzone, in der das Problem noch nicht vollständig verstanden wird. Hier wird oft eine Diagnosephase benötigt, um festzustellen, in welche Kategorie das Problem tatsächlich gehört.\n",
    "    - **Beispiele**: Anfangsphasen von Projekten oder Anforderungen, bei denen nicht klar ist, wie der Umfang oder die genaue Problemstellung aussieht.\n",
    "\n",
    "### Anwendung des Cynefin-Modells in der Softwareentwicklung\n",
    "\n",
    "In der Praxis kann das Cynefin-Modell Softwareentwicklungsteams helfen, Situationen und Herausforderungen besser einzuordnen und darauf basierend die beste Handlungsweise auszuwählen:\n",
    "\n",
    "- **Team-Zusammensetzung und Entscheidungsfindung**: Die Bereiche des Cynefin-Modells bieten Orientierung für die Auswahl von Methoden und Ressourcen. In komplexen Bereichen eignen sich beispielsweise interdisziplinäre Teams und agile Methoden, während in einfachen und komplizierten Bereichen ein erfahrener Experte für klare, analytische Entscheidungen geeignet ist.\n",
    "  \n",
    "- **Methodenanpassung**: Projekte können in verschiedenen Phasen in unterschiedliche Kategorien fallen. Ein neues, unerprobtes Feature kann komplex beginnen und wird möglicherweise nach mehreren Iterationen und Tests zu einer komplizierten oder einfachen Aufgabe. Das Modell hilft dabei, den Entwicklungsansatz dynamisch an den Bereich anzupassen, in dem sich das Team befindet.\n",
    "\n",
    "- **Risiko-Management und Planung**: Durch das frühzeitige Erkennen, in welcher Kategorie sich eine Aufgabe oder ein Problem befindet, können Risiken im Projektmanagement besser eingeordnet werden. Chaotische oder komplexe Bereiche erfordern beispielsweise andere Planungs- und Risikomanagement-Strategien als einfache oder komplizierte Aufgaben.\n",
    "\n",
    "- **Agilität und Experimentation**: Im Bereich der komplexen Probleme zeigt das Modell, warum Experimente und Feedback-Schleifen entscheidend sind. Teams sollten iterativ vorgehen und die Möglichkeit zur Anpassung bewahren, um die besten Lösungen für unklare Probleme zu finden.\n",
    "\n",
    "Insgesamt ist das Cynefin-Modell ein mächtiges Werkzeug in der Softwareentwicklung, das Entscheidungsträgern dabei hilft, Probleme zu strukturieren und systematisch zu lösen.\n",
    "</details>"
   ]
  },
  {
   "cell_type": "markdown",
   "metadata": {},
   "source": [
    "# Cynefin-Modell spielerisch kennenlernen\n",
    "\n",
    "Eine spielerische Möglichkeit zur Erkundung des Cynefin-Modells könnte eine interaktive Zuordnungsaufgabe sein, bei der der Benutzer Beispiele zu den richtigen Kategorien des Modells zuordnen muss. Nach der Zuordnung kann das Programm die Eingaben des Benutzers überprüfen und Feedback geben. \n",
    "\n",
    "Hier ein Beispiel:"
   ]
  },
  {
   "cell_type": "code",
   "execution_count": 1,
   "metadata": {},
   "outputs": [
    {
     "data": {
      "application/vnd.jupyter.widget-view+json": {
       "model_id": "ec064c9474ec4101b2d749c6d0b39331",
       "version_major": 2,
       "version_minor": 0
      },
      "text/plain": [
       "Label(value='Erfordert tiefere Analyse, wie etwa das Design einer neuen Softwarearchitektur.')"
      ]
     },
     "metadata": {},
     "output_type": "display_data"
    },
    {
     "data": {
      "application/vnd.jupyter.widget-view+json": {
       "model_id": "ac72b6bfaf104a058a0e5590159e7aa1",
       "version_major": 2,
       "version_minor": 0
      },
      "text/plain": [
       "Dropdown(layout=Layout(width='50%'), options=('Einfach', 'Kompliziert', 'Komplex', 'Chaotisch', 'Unordentlich'…"
      ]
     },
     "metadata": {},
     "output_type": "display_data"
    },
    {
     "data": {
      "application/vnd.jupyter.widget-view+json": {
       "model_id": "e2bde91470724e5495260c6ad37f1c1d",
       "version_major": 2,
       "version_minor": 0
      },
      "text/plain": [
       "Label(value='Unklare Anforderungen, bei denen der Bereich noch nicht identifiziert ist.')"
      ]
     },
     "metadata": {},
     "output_type": "display_data"
    },
    {
     "data": {
      "application/vnd.jupyter.widget-view+json": {
       "model_id": "160d430b33cf40b290a44bf44ef94f06",
       "version_major": 2,
       "version_minor": 0
      },
      "text/plain": [
       "Dropdown(layout=Layout(width='50%'), options=('Einfach', 'Kompliziert', 'Komplex', 'Chaotisch', 'Unordentlich'…"
      ]
     },
     "metadata": {},
     "output_type": "display_data"
    },
    {
     "data": {
      "application/vnd.jupyter.widget-view+json": {
       "model_id": "3c919fd3cd37467d8c5dd49127481109",
       "version_major": 2,
       "version_minor": 0
      },
      "text/plain": [
       "Label(value='Die Entwicklung neuartiger Features, die regelmäßige Feedback-Schleifen erfordern.')"
      ]
     },
     "metadata": {},
     "output_type": "display_data"
    },
    {
     "data": {
      "application/vnd.jupyter.widget-view+json": {
       "model_id": "1ee4921faa6042168f43f50d1cdf19a5",
       "version_major": 2,
       "version_minor": 0
      },
      "text/plain": [
       "Dropdown(layout=Layout(width='50%'), options=('Einfach', 'Kompliziert', 'Komplex', 'Chaotisch', 'Unordentlich'…"
      ]
     },
     "metadata": {},
     "output_type": "display_data"
    },
    {
     "data": {
      "application/vnd.jupyter.widget-view+json": {
       "model_id": "e6a54befea28464ea701f75de620075d",
       "version_major": 2,
       "version_minor": 0
      },
      "text/plain": [
       "Label(value='Ein Beispiel für Routineaufgaben, wie das Debuggen einfacher Fehler.')"
      ]
     },
     "metadata": {},
     "output_type": "display_data"
    },
    {
     "data": {
      "application/vnd.jupyter.widget-view+json": {
       "model_id": "a087226897484c59ba5aaa846d664f60",
       "version_major": 2,
       "version_minor": 0
      },
      "text/plain": [
       "Dropdown(layout=Layout(width='50%'), options=('Einfach', 'Kompliziert', 'Komplex', 'Chaotisch', 'Unordentlich'…"
      ]
     },
     "metadata": {},
     "output_type": "display_data"
    },
    {
     "data": {
      "application/vnd.jupyter.widget-view+json": {
       "model_id": "fbefbf3bd5804f178d11f81293c66113",
       "version_major": 2,
       "version_minor": 0
      },
      "text/plain": [
       "Label(value='Notfall-Bugfixes oder Sicherheitsverletzungen, die sofortiges Eingreifen benötigen.')"
      ]
     },
     "metadata": {},
     "output_type": "display_data"
    },
    {
     "data": {
      "application/vnd.jupyter.widget-view+json": {
       "model_id": "37eecfa9f1b24dc8bc2757abd5ed3a15",
       "version_major": 2,
       "version_minor": 0
      },
      "text/plain": [
       "Dropdown(layout=Layout(width='50%'), options=('Einfach', 'Kompliziert', 'Komplex', 'Chaotisch', 'Unordentlich'…"
      ]
     },
     "metadata": {},
     "output_type": "display_data"
    },
    {
     "data": {
      "application/vnd.jupyter.widget-view+json": {
       "model_id": "fcbacd22e53f43c499701c5e231a70d3",
       "version_major": 2,
       "version_minor": 0
      },
      "text/plain": [
       "Button(description='Überprüfen', style=ButtonStyle())"
      ]
     },
     "metadata": {},
     "output_type": "display_data"
    }
   ],
   "source": [
    "import ipywidgets as widgets\n",
    "from IPython.display import display, clear_output\n",
    "\n",
    "# Beschreibungen für jedes Cynefin-Feld\n",
    "questions = {\n",
    "    \"Erfordert tiefere Analyse, wie etwa das Design einer neuen Softwarearchitektur.\": \"Kompliziert\",\n",
    "    \"Unklare Anforderungen, bei denen der Bereich noch nicht identifiziert ist.\": \"Unordentlich\",\n",
    "    \"Die Entwicklung neuartiger Features, die regelmäßige Feedback-Schleifen erfordern.\": \"Komplex\",\n",
    "    \"Ein Beispiel für Routineaufgaben, wie das Debuggen einfacher Fehler.\": \"Einfach\",\n",
    "    \"Notfall-Bugfixes oder Sicherheitsverletzungen, die sofortiges Eingreifen benötigen.\": \"Chaotisch\"\n",
    "}\n",
    "\n",
    "# Dropdown-Menüs für die Antworten ohne descriptions, stattdessen mit Labels\n",
    "options = [\"Einfach\", \"Kompliziert\", \"Komplex\", \"Chaotisch\", \"Unordentlich\"]\n",
    "dropdowns = {question: widgets.Dropdown(options=options, layout=widgets.Layout(width='50%')) for question in questions}\n",
    "\n",
    "# Überprüfungsfunktion\n",
    "def check_answers(b):\n",
    "    clear_output()\n",
    "    score = 0\n",
    "    total = len(questions)\n",
    "    for question, dropdown in dropdowns.items():\n",
    "        answer = dropdown.value\n",
    "        if answer == questions[question]:\n",
    "            score += 1\n",
    "            print(f\"Korrekt: {question}\")\n",
    "        else:\n",
    "            print(f\"Falsch: {question} (Ihre Antwort: {answer}, Richtig: {questions[question]})\")\n",
    "    print(f\"\\nIhr Ergebnis: {score}/{total} richtig.\")\n",
    "\n",
    "# Button zum Überprüfen der Antworten\n",
    "check_button = widgets.Button(description=\"Überprüfen\")\n",
    "check_button.on_click(check_answers)\n",
    "\n",
    "# Anzeige der Labels, Dropdowns und des Buttons\n",
    "for question, dropdown in dropdowns.items():\n",
    "    display(widgets.Label(value=question))  # Frage als Label\n",
    "    display(dropdown)                        # Dropdown-Menü darunter\n",
    "display(check_button)"
   ]
  }
 ],
 "metadata": {
  "kernelspec": {
   "display_name": "Python 3",
   "language": "python",
   "name": "python3"
  },
  "language_info": {
   "codemirror_mode": {
    "name": "ipython",
    "version": 3
   },
   "file_extension": ".py",
   "mimetype": "text/x-python",
   "name": "python",
   "nbconvert_exporter": "python",
   "pygments_lexer": "ipython3",
   "version": "3.9.13"
  }
 },
 "nbformat": 4,
 "nbformat_minor": 2
}
