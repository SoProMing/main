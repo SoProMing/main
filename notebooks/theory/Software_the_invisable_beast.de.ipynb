{
 "cells": [
  {
   "cell_type": "markdown",
   "metadata": {},
   "source": [
    "# Software - das unsichtbare Biest\n",
    "\n",
    "<img src=\"Invisible_complexity.webp\" style=\"width:280px; height:280px;\">\n",
    "\n",
    "-   **Unsichtbarkeit und fehlende Haptik**: Software ist nicht greifbar, im Gegensatz zu physischen Produkten; ihre Komplexität und Qualität sind nicht direkt sichtbar oder spürbar.\n",
    "    \n",
    "-   **Schwierigkeiten bei der Qualitätserkennung**: Qualitätsmerkmale wie Effizienz, Sicherheit und Skalierbarkeit sind für Nutzer schwer erkennbar und messbar, oft nur über die Benutzeroberfläche erlebbar.\n",
    "    \n",
    "-   **Hohe Einstiegshürde im Software-Ökosystem**: Abstrakte Architektur, Schnittstellen und Infrastruktur im Hintergrund machen das Verständnis von Softwareprodukten für Laien schwierig.\n",
    "    \n",
    "-   **Wahrnehmung der Entwicklungs-Komplexität**: Der Entwicklungsaufwand für Software wird oft unterschätzt, da Nutzer die internen Prozesse und Fachkenntnisse nicht sehen.\n",
    "    \n",
    "-   **Fazit**: Die Unsichtbarkeit und fehlende direkte Wahrnehmung schaffen hohe Barrieren, um Software intuitiv und auf sensorischer Ebene zu verstehen und zu bewerten, was sie schwer zugänglich und bewertbar macht."
   ]
  },
  {
   "cell_type": "markdown",
   "metadata": {},
   "source": [
    "<details><summary>Nochmal zum Nachlesen...</summary>\n",
    "Software ist in vielerlei Hinsicht eine „unsichtbare“ Technologie, die sich stark von physischen Produkten unterscheidet, was die Wahrnehmung, die Haptik und die intuitiv nutzbaren Sinne betrifft. Diese Unsichtbarkeit führt zu Herausforderungen auf mehreren Ebenen, insbesondere hinsichtlich der Benutzung, der Qualität und des Ökosystems, in dem sie eingebettet ist. Anders als bei physischen Objekten fehlt bei Software häufig der direkte sensorische Zugang – das Anfassen, das Sehen, das Hören – wodurch auch die Komplexität und das Entwicklungsniveau für Laien weniger sichtbar sind.\n",
    "\n",
    "### 1. **Fehlende Haptik und Sensorik**\n",
    "\n",
    "Im Gegensatz zu greifbaren Produkten wie Fahrrädern oder Raketen, bei denen die Komplexität der Konstruktion und die Qualität der Materialien unmittelbar sichtbar oder spürbar sind, fehlt bei Software jegliche Form der Haptik und des sichtbaren Fortschritts. Wenn man ein Fahrrad oder eine Rakete betrachtet, lassen sich oft sofort Rückschlüsse auf den Entwicklungsaufwand ziehen: Die verwendeten Materialien, die Größe, die Art der Verschraubungen und die Anzahl der Einzelteile geben Hinweise darauf, wie aufwendig das Produkt in der Herstellung ist. Software dagegen besteht aus Code und läuft im Verborgenen auf Hardware. Der Entwicklungsaufwand und die Komplexität des Programmcodes sind unsichtbar; was der Benutzer sieht, ist meist nur ein grafisches Interface – eine Benutzeroberfläche, die die technischen Prozesse im Hintergrund verbirgt.\n",
    "\n",
    "### 2. **Herausforderungen bei der Benutzung und Sichtbarkeit der Qualität**\n",
    "\n",
    "Bei physischen Produkten lässt sich oft intuitiv erkennen, ob sie funktionieren und wie gut sie verarbeitet sind. Die Qualität eines Sandwichs oder eines Fahrrads ist oft direkt erfahrbar: Ist der Salat frisch, das Brot knusprig, die Schaltung leichtgängig, oder das Material robust? Software jedoch bietet diesen unmittelbaren Zugang nicht. Nutzer sehen und erleben oft nur die Oberflächendarstellung, nicht jedoch die innere Logik, die Struktur, die Sicherheitsmechanismen oder die Effizienz der Algorithmen. Qualitätsmerkmale wie Effizienz, Skalierbarkeit und Sicherheit sind schwer verständlich und messbar, und es bedarf oft tiefer technischer Kenntnisse, um diese Eigenschaften zu bewerten oder gar zu diskutieren.\n",
    "\n",
    "Der Entwicklungsprozess von Software bleibt unsichtbar: Der Benutzer kann nicht erkennen, „wie weit“ ein Softwareprodukt entwickelt ist oder wo die Qualitätsmerkmale liegen, wie man das vielleicht bei einem physischen Produkt könnte. Häufig können Endnutzer nicht sofort feststellen, ob eine Software gut entwickelt oder sicher ist, und Softwarefehler sind oft erst im Betrieb und unter Last spürbar – eine Eigenschaft, die es umso schwieriger macht, Qualität zu bewerten oder sogar zu verbessern.\n",
    "\n",
    "### 3. **Einstiegshürde: Abstraktheit und fehlende Intuition im Software-Ökosystem**\n",
    "\n",
    "Das Ökosystem, in das Software eingebettet ist, erhöht ebenfalls die Unsichtbarkeit und die Einstiegshürde. Ein Großteil der Software-Architektur, der zugrunde liegenden Systeme und der Infrastruktur sind für den normalen Benutzer weder sichtbar noch intuitiv verständlich. Unterschiedliche Plattformen, Schnittstellen, Datenbanken und Netzwerkkonfigurationen bilden das Rückgrat von Softwareprodukten, doch sind sie im Hintergrund verborgen und schwer nachvollziehbar. Auch die Werkzeuge und Frameworks, die bei der Entwicklung verwendet werden, sind hochgradig abstrakt und techniklastig, was es für Laien zusätzlich erschwert, den Entstehungsprozess oder die Qualität eines Produkts nachzuvollziehen.\n",
    "\n",
    "### 4. **Komplexität in der Entwicklung und Wahrnehmung**\n",
    "\n",
    "Im Gegensatz zu einem Fahrrad, dessen Aufbau recht schnell intuitiv zu verstehen ist, wird der Entwicklungsaufwand für Software unterschätzt. Die Komplexität und die Fachkenntnisse, die nötig sind, um robuste, sichere und leistungsfähige Software zu entwickeln, sind für Laien oft nicht erkennbar und daher schwer verständlich. Ein Programm, das auf den ersten Blick nur aus ein paar Klicks auf einer Benutzeroberfläche besteht, kann intern auf Millionen von Zeilen Code, komplexen Algorithmen und detaillierten Abhängigkeiten beruhen. Die Einstiegshürde ist hier sehr hoch, da allein das Verständnis der Grundbausteine und der eingesetzten Werkzeuge tiefgehendes Wissen und jahrelange Erfahrung voraussetzt. \n",
    "\n",
    "### Fazit\n",
    "\n",
    "Das Fehlen von Haptik und die Unsichtbarkeit der Softwareinfrastruktur sind wesentliche Gründe, warum Software für viele schwer zugänglich und bewertbar ist. Ohne direkten sensorischen Zugang und die Möglichkeit, Komplexität und Qualität intuitiv wahrzunehmen, ist Software für Laien oft wie eine „Black Box“ – ein Produkt, dessen Entwicklung, Aufwand und Qualitätskriterien erst nach intensiver Beschäftigung und technischem Verständnis klar werden. Dies schafft eine erhebliche Barriere, die es schwer macht, Software auf eine Weise zu diskutieren und zu bewerten, die den gleichen direkten und intuitiven Zugang ermöglicht wie bei greifbaren Produkten.\n",
    "</details>"
   ]
  }
 ],
 "metadata": {
  "language_info": {
   "name": "python"
  }
 },
 "nbformat": 4,
 "nbformat_minor": 2
}
